{
 "cells": [
  {
   "cell_type": "markdown",
   "id": "702d6c6b",
   "metadata": {},
   "source": [
    "# Modelos AR(p) Ejemplo\n",
    "Katlyn Goeujon-Mackness <br>\n",
    "29/04/2025"
   ]
  },
  {
   "cell_type": "markdown",
   "id": "051b861c",
   "metadata": {},
   "source": [
    "## Objetivo\n",
    "Explorar el concepto de modelos autoregresivos AR(p), con un enfoque particular en el modelo AR(1). Estos modelos utilizan valores pasados de una serie temporal para predecir futuros valores."
   ]
  },
  {
   "cell_type": "markdown",
   "id": "18d0bdb1",
   "metadata": {},
   "source": [
    "## Introducción \n",
    "**El modelo AR(1), o modelo autoregresivo de orden 1**, se utiliza en series de tiempo para predecir el valor actual de una variable basándose en su valor inmediatamente anterior. Es el modelo autoregresivo más básico y se utiliza como base para modelos más complejos, como AR(p) de órdenes superiores.\n",
    "\n",
    "### Componentes\n",
    "* media constante (𝜇)\n",
    "* coeficiente (𝜙)\n",
    "* término de error de ruido blanco\n"
   ]
  },
  {
   "cell_type": "markdown",
   "id": "604c2ee3",
   "metadata": {},
   "source": [
    "## Implementación\n",
    "Utilizaremos librerías estadísticas para implementar modelos AR(1) en el análisis de precios de acciones. Veremos cómo ajustar modelos a datos de entrenamiento y realizar predicciones precisas."
   ]
  },
  {
   "cell_type": "code",
   "execution_count": null,
   "id": "ca0dd122",
   "metadata": {},
   "outputs": [],
   "source": [
    "# Utiliza precios históricos de acciones de Apple extraídos de Yahoo Finance\n"
   ]
  },
  {
   "cell_type": "code",
   "execution_count": null,
   "id": "4c445552",
   "metadata": {},
   "outputs": [],
   "source": [
    "# Divide los datos en conjuntos de entrenamiento (80%) y prueba (20%).\n"
   ]
  },
  {
   "cell_type": "code",
   "execution_count": null,
   "id": "4aee7657",
   "metadata": {},
   "outputs": [],
   "source": [
    "# Ajusta un modelo AR(1) con herramientas de Python, prediciendo los valores futuros.\n"
   ]
  },
  {
   "cell_type": "markdown",
   "id": "81ef343d",
   "metadata": {},
   "source": [
    "## Evaluación\n",
    "Evaluaremos la precisión de los modelos AR(1) mediante métricas como el MSE y MAPE. "
   ]
  },
  {
   "cell_type": "code",
   "execution_count": null,
   "id": "b4375ca7",
   "metadata": {},
   "outputs": [],
   "source": [
    "# Calcula error RMSE\n"
   ]
  },
  {
   "cell_type": "code",
   "execution_count": null,
   "id": "ad7bcf25",
   "metadata": {},
   "outputs": [],
   "source": [
    "# Calcula error MAPE\n"
   ]
  },
  {
   "cell_type": "code",
   "execution_count": null,
   "id": "f3e446ee",
   "metadata": {},
   "outputs": [],
   "source": [
    "# Evaluación de prediccionees"
   ]
  },
  {
   "cell_type": "markdown",
   "id": "974a25b2",
   "metadata": {},
   "source": [
    "##  Validación \n",
    "Validaremos la adecuación del modelo utilizando criterios estadísticos y visualización gráfica."
   ]
  },
  {
   "cell_type": "code",
   "execution_count": null,
   "id": "df4e0a39",
   "metadata": {},
   "outputs": [],
   "source": [
    "# Se grafican los coeficientes de autocorrelación para identificar patrones.\n"
   ]
  },
  {
   "cell_type": "code",
   "execution_count": null,
   "id": "16e7ef2d",
   "metadata": {},
   "outputs": [],
   "source": [
    "# Se comparan las predicciones con datos reales para analizar la precisión del modelo."
   ]
  }
 ],
 "metadata": {
  "language_info": {
   "name": "python"
  }
 },
 "nbformat": 4,
 "nbformat_minor": 5
}
