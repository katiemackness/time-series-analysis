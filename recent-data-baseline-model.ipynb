{
 "cells": [
  {
   "cell_type": "markdown",
   "metadata": {},
   "source": [
    "# Recent Data Time Series Analysis\n",
    "## Baseline Model\n",
    "Katlyn Goeujon-Mackness <br>\n",
    "01/04/2025"
   ]
  },
  {
   "cell_type": "markdown",
   "metadata": {},
   "source": [
    "### Description\n",
    "A **baseline model** in time series analysis is a trivial solution that uses heuristics (simple statistics) to compute a forecast. It is used to compare more complex models in order to judge performance. \n",
    "\n",
    "### Objective\n",
    "This notebook explores four types of baseline model to find the best fit, using **historical quarterly earnings data from Cigna Group (CI)**.\n",
    "1. Historical mean\n",
    "2. Last year's mean\n",
    "3. Last known value\n",
    "4. Seasonal forecast"
   ]
  },
  {
   "cell_type": "markdown",
   "metadata": {},
   "source": [
    "### Data Collection"
   ]
  },
  {
   "cell_type": "code",
   "execution_count": 1,
   "metadata": {},
   "outputs": [],
   "source": [
    "# Import libraries\n",
    "import pandas as pd\n",
    "import numpy as np\n",
    "import matplotlib.pyplot as plt\n",
    "\n",
    "import warnings\n",
    "warnings.filterwarnings(\"ignore\")\n"
   ]
  },
  {
   "cell_type": "code",
   "execution_count": null,
   "metadata": {},
   "outputs": [],
   "source": [
    "\n",
    "# Load earnings data from Kaggle dataset\n",
    "data = pd.read_csv(\"data/earnings_latest.csv\" )"
   ]
  },
  {
   "cell_type": "code",
   "execution_count": 41,
   "metadata": {},
   "outputs": [
    {
     "name": "stdout",
     "output_type": "stream",
     "text": [
      "<class 'pandas.core.frame.DataFrame'>\n",
      "RangeIndex: 168603 entries, 0 to 168602\n",
      "Data columns (total 6 columns):\n",
      " #   Column        Non-Null Count   Dtype  \n",
      "---  ------        --------------   -----  \n",
      " 0   symbol        168603 non-null  object \n",
      " 1   date          168603 non-null  object \n",
      " 2   qtr           167599 non-null  object \n",
      " 3   eps_est       111347 non-null  float64\n",
      " 4   eps           136216 non-null  float64\n",
      " 5   release_time  108400 non-null  object \n",
      "dtypes: float64(2), object(4)\n",
      "memory usage: 7.7+ MB\n"
     ]
    }
   ],
   "source": [
    "data.info()"
   ]
  },
  {
   "cell_type": "code",
   "execution_count": null,
   "metadata": {},
   "outputs": [
    {
     "data": {
      "text/html": [
       "<div>\n",
       "<style scoped>\n",
       "    .dataframe tbody tr th:only-of-type {\n",
       "        vertical-align: middle;\n",
       "    }\n",
       "\n",
       "    .dataframe tbody tr th {\n",
       "        vertical-align: top;\n",
       "    }\n",
       "\n",
       "    .dataframe thead th {\n",
       "        text-align: right;\n",
       "    }\n",
       "</style>\n",
       "<table border=\"1\" class=\"dataframe\">\n",
       "  <thead>\n",
       "    <tr style=\"text-align: right;\">\n",
       "      <th></th>\n",
       "      <th>date</th>\n",
       "      <th>eps</th>\n",
       "    </tr>\n",
       "  </thead>\n",
       "  <tbody>\n",
       "    <tr>\n",
       "      <th>0</th>\n",
       "      <td>2009-07-30</td>\n",
       "      <td>NaN</td>\n",
       "    </tr>\n",
       "    <tr>\n",
       "      <th>1</th>\n",
       "      <td>2009-11-05</td>\n",
       "      <td>1.13</td>\n",
       "    </tr>\n",
       "    <tr>\n",
       "      <th>2</th>\n",
       "      <td>2010-02-04</td>\n",
       "      <td>1.03</td>\n",
       "    </tr>\n",
       "    <tr>\n",
       "      <th>3</th>\n",
       "      <td>2010-05-06</td>\n",
       "      <td>1.01</td>\n",
       "    </tr>\n",
       "    <tr>\n",
       "      <th>4</th>\n",
       "      <td>2010-08-05</td>\n",
       "      <td>1.38</td>\n",
       "    </tr>\n",
       "    <tr>\n",
       "      <th>5</th>\n",
       "      <td>2010-10-29</td>\n",
       "      <td>1.10</td>\n",
       "    </tr>\n",
       "    <tr>\n",
       "      <th>6</th>\n",
       "      <td>2011-02-03</td>\n",
       "      <td>1.15</td>\n",
       "    </tr>\n",
       "    <tr>\n",
       "      <th>7</th>\n",
       "      <td>2011-05-05</td>\n",
       "      <td>1.37</td>\n",
       "    </tr>\n",
       "    <tr>\n",
       "      <th>8</th>\n",
       "      <td>2011-08-04</td>\n",
       "      <td>1.53</td>\n",
       "    </tr>\n",
       "    <tr>\n",
       "      <th>9</th>\n",
       "      <td>2011-10-28</td>\n",
       "      <td>NaN</td>\n",
       "    </tr>\n",
       "    <tr>\n",
       "      <th>10</th>\n",
       "      <td>2012-02-02</td>\n",
       "      <td>NaN</td>\n",
       "    </tr>\n",
       "    <tr>\n",
       "      <th>11</th>\n",
       "      <td>2012-05-03</td>\n",
       "      <td>1.24</td>\n",
       "    </tr>\n",
       "    <tr>\n",
       "      <th>12</th>\n",
       "      <td>2012-08-02</td>\n",
       "      <td>1.52</td>\n",
       "    </tr>\n",
       "    <tr>\n",
       "      <th>13</th>\n",
       "      <td>2012-11-01</td>\n",
       "      <td>1.71</td>\n",
       "    </tr>\n",
       "    <tr>\n",
       "      <th>14</th>\n",
       "      <td>2013-02-07</td>\n",
       "      <td>1.57</td>\n",
       "    </tr>\n",
       "    <tr>\n",
       "      <th>15</th>\n",
       "      <td>2013-05-02</td>\n",
       "      <td>1.72</td>\n",
       "    </tr>\n",
       "    <tr>\n",
       "      <th>16</th>\n",
       "      <td>2013-08-01</td>\n",
       "      <td>1.78</td>\n",
       "    </tr>\n",
       "    <tr>\n",
       "      <th>17</th>\n",
       "      <td>2013-10-31</td>\n",
       "      <td>1.89</td>\n",
       "    </tr>\n",
       "    <tr>\n",
       "      <th>18</th>\n",
       "      <td>2014-02-07</td>\n",
       "      <td>1.39</td>\n",
       "    </tr>\n",
       "    <tr>\n",
       "      <th>19</th>\n",
       "      <td>2014-05-01</td>\n",
       "      <td>1.83</td>\n",
       "    </tr>\n",
       "    <tr>\n",
       "      <th>20</th>\n",
       "      <td>2014-07-31</td>\n",
       "      <td>1.96</td>\n",
       "    </tr>\n",
       "    <tr>\n",
       "      <th>21</th>\n",
       "      <td>2014-10-30</td>\n",
       "      <td>1.95</td>\n",
       "    </tr>\n",
       "    <tr>\n",
       "      <th>22</th>\n",
       "      <td>2015-02-05</td>\n",
       "      <td>1.69</td>\n",
       "    </tr>\n",
       "    <tr>\n",
       "      <th>23</th>\n",
       "      <td>2015-04-30</td>\n",
       "      <td>1.96</td>\n",
       "    </tr>\n",
       "    <tr>\n",
       "      <th>24</th>\n",
       "      <td>2015-07-30</td>\n",
       "      <td>2.55</td>\n",
       "    </tr>\n",
       "    <tr>\n",
       "      <th>25</th>\n",
       "      <td>2015-11-06</td>\n",
       "      <td>2.28</td>\n",
       "    </tr>\n",
       "    <tr>\n",
       "      <th>26</th>\n",
       "      <td>2016-02-04</td>\n",
       "      <td>1.87</td>\n",
       "    </tr>\n",
       "    <tr>\n",
       "      <th>27</th>\n",
       "      <td>2016-05-06</td>\n",
       "      <td>2.32</td>\n",
       "    </tr>\n",
       "    <tr>\n",
       "      <th>28</th>\n",
       "      <td>2016-07-29</td>\n",
       "      <td>1.98</td>\n",
       "    </tr>\n",
       "    <tr>\n",
       "      <th>29</th>\n",
       "      <td>2016-11-03</td>\n",
       "      <td>1.94</td>\n",
       "    </tr>\n",
       "    <tr>\n",
       "      <th>30</th>\n",
       "      <td>2017-02-02</td>\n",
       "      <td>1.87</td>\n",
       "    </tr>\n",
       "    <tr>\n",
       "      <th>31</th>\n",
       "      <td>2017-05-05</td>\n",
       "      <td>2.77</td>\n",
       "    </tr>\n",
       "    <tr>\n",
       "      <th>32</th>\n",
       "      <td>2017-08-04</td>\n",
       "      <td>2.91</td>\n",
       "    </tr>\n",
       "    <tr>\n",
       "      <th>33</th>\n",
       "      <td>2017-11-02</td>\n",
       "      <td>2.83</td>\n",
       "    </tr>\n",
       "    <tr>\n",
       "      <th>34</th>\n",
       "      <td>2018-02-01</td>\n",
       "      <td>1.94</td>\n",
       "    </tr>\n",
       "    <tr>\n",
       "      <th>35</th>\n",
       "      <td>2018-05-03</td>\n",
       "      <td>4.11</td>\n",
       "    </tr>\n",
       "    <tr>\n",
       "      <th>36</th>\n",
       "      <td>2018-08-02</td>\n",
       "      <td>3.89</td>\n",
       "    </tr>\n",
       "    <tr>\n",
       "      <th>37</th>\n",
       "      <td>2018-11-01</td>\n",
       "      <td>3.84</td>\n",
       "    </tr>\n",
       "    <tr>\n",
       "      <th>38</th>\n",
       "      <td>2019-02-01</td>\n",
       "      <td>2.46</td>\n",
       "    </tr>\n",
       "    <tr>\n",
       "      <th>39</th>\n",
       "      <td>2019-05-02</td>\n",
       "      <td>3.90</td>\n",
       "    </tr>\n",
       "    <tr>\n",
       "      <th>40</th>\n",
       "      <td>2019-08-01</td>\n",
       "      <td>4.30</td>\n",
       "    </tr>\n",
       "    <tr>\n",
       "      <th>41</th>\n",
       "      <td>2019-10-31</td>\n",
       "      <td>4.54</td>\n",
       "    </tr>\n",
       "    <tr>\n",
       "      <th>42</th>\n",
       "      <td>2020-02-06</td>\n",
       "      <td>4.31</td>\n",
       "    </tr>\n",
       "    <tr>\n",
       "      <th>43</th>\n",
       "      <td>2020-04-30</td>\n",
       "      <td>4.69</td>\n",
       "    </tr>\n",
       "    <tr>\n",
       "      <th>44</th>\n",
       "      <td>2020-07-30</td>\n",
       "      <td>5.81</td>\n",
       "    </tr>\n",
       "    <tr>\n",
       "      <th>45</th>\n",
       "      <td>2020-11-05</td>\n",
       "      <td>4.41</td>\n",
       "    </tr>\n",
       "    <tr>\n",
       "      <th>46</th>\n",
       "      <td>2021-02-04</td>\n",
       "      <td>3.51</td>\n",
       "    </tr>\n",
       "    <tr>\n",
       "      <th>47</th>\n",
       "      <td>2021-05-07</td>\n",
       "      <td>4.73</td>\n",
       "    </tr>\n",
       "  </tbody>\n",
       "</table>\n",
       "</div>"
      ],
      "text/plain": [
       "          date   eps\n",
       "0   2009-07-30   NaN\n",
       "1   2009-11-05  1.13\n",
       "2   2010-02-04  1.03\n",
       "3   2010-05-06  1.01\n",
       "4   2010-08-05  1.38\n",
       "5   2010-10-29  1.10\n",
       "6   2011-02-03  1.15\n",
       "7   2011-05-05  1.37\n",
       "8   2011-08-04  1.53\n",
       "9   2011-10-28   NaN\n",
       "10  2012-02-02   NaN\n",
       "11  2012-05-03  1.24\n",
       "12  2012-08-02  1.52\n",
       "13  2012-11-01  1.71\n",
       "14  2013-02-07  1.57\n",
       "15  2013-05-02  1.72\n",
       "16  2013-08-01  1.78\n",
       "17  2013-10-31  1.89\n",
       "18  2014-02-07  1.39\n",
       "19  2014-05-01  1.83\n",
       "20  2014-07-31  1.96\n",
       "21  2014-10-30  1.95\n",
       "22  2015-02-05  1.69\n",
       "23  2015-04-30  1.96\n",
       "24  2015-07-30  2.55\n",
       "25  2015-11-06  2.28\n",
       "26  2016-02-04  1.87\n",
       "27  2016-05-06  2.32\n",
       "28  2016-07-29  1.98\n",
       "29  2016-11-03  1.94\n",
       "30  2017-02-02  1.87\n",
       "31  2017-05-05  2.77\n",
       "32  2017-08-04  2.91\n",
       "33  2017-11-02  2.83\n",
       "34  2018-02-01  1.94\n",
       "35  2018-05-03  4.11\n",
       "36  2018-08-02  3.89\n",
       "37  2018-11-01  3.84\n",
       "38  2019-02-01  2.46\n",
       "39  2019-05-02  3.90\n",
       "40  2019-08-01  4.30\n",
       "41  2019-10-31  4.54\n",
       "42  2020-02-06  4.31\n",
       "43  2020-04-30  4.69\n",
       "44  2020-07-30  5.81\n",
       "45  2020-11-05  4.41\n",
       "46  2021-02-04  3.51\n",
       "47  2021-05-07  4.73"
      ]
     },
     "execution_count": 100,
     "metadata": {},
     "output_type": "execute_result"
    }
   ],
   "source": [
    "# Filter for CI\n",
    "earnings = data[data['symbol'] == 'CI']\n",
    "\n",
    "# Select date and actual EPS columns\n",
    "earnings = earnings[['date', 'eps']]\n",
    "earnings.reset_index(drop=True, inplace=True)\n",
    "earnings\n"
   ]
  },
  {
   "cell_type": "markdown",
   "metadata": {},
   "source": [
    "### Data Exploration"
   ]
  },
  {
   "cell_type": "code",
   "execution_count": 64,
   "metadata": {},
   "outputs": [
    {
     "data": {
      "text/html": [
       "<div>\n",
       "<style scoped>\n",
       "    .dataframe tbody tr th:only-of-type {\n",
       "        vertical-align: middle;\n",
       "    }\n",
       "\n",
       "    .dataframe tbody tr th {\n",
       "        vertical-align: top;\n",
       "    }\n",
       "\n",
       "    .dataframe thead th {\n",
       "        text-align: right;\n",
       "    }\n",
       "</style>\n",
       "<table border=\"1\" class=\"dataframe\">\n",
       "  <thead>\n",
       "    <tr style=\"text-align: right;\">\n",
       "      <th></th>\n",
       "      <th>eps</th>\n",
       "    </tr>\n",
       "  </thead>\n",
       "  <tbody>\n",
       "    <tr>\n",
       "      <th>count</th>\n",
       "      <td>49.000000</td>\n",
       "    </tr>\n",
       "    <tr>\n",
       "      <th>mean</th>\n",
       "      <td>0.889796</td>\n",
       "    </tr>\n",
       "    <tr>\n",
       "      <th>std</th>\n",
       "      <td>0.359377</td>\n",
       "    </tr>\n",
       "    <tr>\n",
       "      <th>min</th>\n",
       "      <td>0.420000</td>\n",
       "    </tr>\n",
       "    <tr>\n",
       "      <th>25%</th>\n",
       "      <td>0.620000</td>\n",
       "    </tr>\n",
       "    <tr>\n",
       "      <th>50%</th>\n",
       "      <td>0.800000</td>\n",
       "    </tr>\n",
       "    <tr>\n",
       "      <th>75%</th>\n",
       "      <td>1.150000</td>\n",
       "    </tr>\n",
       "    <tr>\n",
       "      <th>max</th>\n",
       "      <td>1.960000</td>\n",
       "    </tr>\n",
       "  </tbody>\n",
       "</table>\n",
       "</div>"
      ],
      "text/plain": [
       "             eps\n",
       "count  49.000000\n",
       "mean    0.889796\n",
       "std     0.359377\n",
       "min     0.420000\n",
       "25%     0.620000\n",
       "50%     0.800000\n",
       "75%     1.150000\n",
       "max     1.960000"
      ]
     },
     "execution_count": 64,
     "metadata": {},
     "output_type": "execute_result"
    }
   ],
   "source": [
    "earnings.describe()"
   ]
  },
  {
   "cell_type": "code",
   "execution_count": 110,
   "metadata": {},
   "outputs": [
    {
     "data": {
      "image/png": "[encoded data removed]",
      "text/plain": [
       "<Figure size 640x480 with 1 Axes>"
      ]
     },
     "metadata": {},
     "output_type": "display_data"
    }
   ],
   "source": [
    "# Plot data in a line graph\n",
    "fig, ax = plt.subplots()\n",
    "\n",
    "ax.plot(earnings['date'], earnings['eps'])\n",
    "ax.set_xlabel('Date')\n",
    "ax.set_ylabel('Earnings per share (USD)')\n",
    "\n",
    "# Highlight the last four quarters, which the baseline will predict\n",
    "ax.axvspan(44, 47, color=\"#808080\", alpha=0.2)\n",
    "\n",
    "# Label ticks\n",
    "plt.xticks(np.arange(2, 47, 4), [2010, 2011, 2012, 2013, 2014, 2015, 2016, 2017, 2018, 2019, 2020, 2021])\n",
    "plt.tight_layout()\n"
   ]
  },
  {
   "cell_type": "markdown",
   "metadata": {},
   "source": [
    "### Baseline Modeling\n",
    "#### 1. Historical mean"
   ]
  },
  {
   "cell_type": "code",
   "execution_count": 112,
   "metadata": {},
   "outputs": [],
   "source": [
    "# Split data into training and test sets\n",
    "#  The last four entries are used to test the predicitons from the remaining entries\n",
    "train = earnings[:-4]\n",
    "test = earnings[-4:]"
   ]
  },
  {
   "cell_type": "code",
   "execution_count": 114,
   "metadata": {},
   "outputs": [
    {
     "name": "stdout",
     "output_type": "stream",
     "text": [
      "2.2734146341463415\n"
     ]
    }
   ],
   "source": [
    "historical_mean = np.mean(train['eps'])\n",
    "print(historical_mean)"
   ]
  },
  {
   "cell_type": "code",
   "execution_count": 115,
   "metadata": {},
   "outputs": [
    {
     "data": {
      "text/html": [
       "<div>\n",
       "<style scoped>\n",
       "    .dataframe tbody tr th:only-of-type {\n",
       "        vertical-align: middle;\n",
       "    }\n",
       "\n",
       "    .dataframe tbody tr th {\n",
       "        vertical-align: top;\n",
       "    }\n",
       "\n",
       "    .dataframe thead th {\n",
       "        text-align: right;\n",
       "    }\n",
       "</style>\n",
       "<table border=\"1\" class=\"dataframe\">\n",
       "  <thead>\n",
       "    <tr style=\"text-align: right;\">\n",
       "      <th></th>\n",
       "      <th>date</th>\n",
       "      <th>eps</th>\n",
       "      <th>pred_mean</th>\n",
       "    </tr>\n",
       "  </thead>\n",
       "  <tbody>\n",
       "    <tr>\n",
       "      <th>44</th>\n",
       "      <td>2020-07-30</td>\n",
       "      <td>5.81</td>\n",
       "      <td>2.273415</td>\n",
       "    </tr>\n",
       "    <tr>\n",
       "      <th>45</th>\n",
       "      <td>2020-11-05</td>\n",
       "      <td>4.41</td>\n",
       "      <td>2.273415</td>\n",
       "    </tr>\n",
       "    <tr>\n",
       "      <th>46</th>\n",
       "      <td>2021-02-04</td>\n",
       "      <td>3.51</td>\n",
       "      <td>2.273415</td>\n",
       "    </tr>\n",
       "    <tr>\n",
       "      <th>47</th>\n",
       "      <td>2021-05-07</td>\n",
       "      <td>4.73</td>\n",
       "      <td>2.273415</td>\n",
       "    </tr>\n",
       "  </tbody>\n",
       "</table>\n",
       "</div>"
      ],
      "text/plain": [
       "          date   eps  pred_mean\n",
       "44  2020-07-30  5.81   2.273415\n",
       "45  2020-11-05  4.41   2.273415\n",
       "46  2021-02-04  3.51   2.273415\n",
       "47  2021-05-07  4.73   2.273415"
      ]
     },
     "execution_count": 115,
     "metadata": {},
     "output_type": "execute_result"
    }
   ],
   "source": [
    "# Naively forecast for each quarter of 1980\n",
    "test.loc[:, 'pred_mean'] = historical_mean\n",
    "test"
   ]
  },
  {
   "cell_type": "code",
   "execution_count": 116,
   "metadata": {},
   "outputs": [],
   "source": [
    "# Calculate mean absolute percentage error (MAPE)\n",
    "#  Returns % of how much the forecast values deviate\n",
    "#  from the actual values on avg\n",
    "\n",
    "def mape(y_true, y_pred):\n",
    "    return np.mean(np.abs((y_true - y_pred) / y_true)) * 100"
   ]
  },
  {
   "cell_type": "code",
   "execution_count": 117,
   "metadata": {},
   "outputs": [
    {
     "name": "stdout",
     "output_type": "stream",
     "text": [
      "49.1214815149725\n"
     ]
    }
   ],
   "source": [
    "mape_hist_mean = mape(test['eps'], test['pred_mean'])\n",
    "print(mape_hist_mean)"
   ]
  },
  {
   "cell_type": "code",
   "execution_count": 121,
   "metadata": {},
   "outputs": [
    {
     "data": {
      "image/png": "[encoded data removed]",
      "text/plain": [
       "<Figure size 640x480 with 1 Axes>"
      ]
     },
     "metadata": {},
     "output_type": "display_data"
    }
   ],
   "source": [
    "# Visualize the historical mean forecast\n",
    "# Plot data in a line graph\n",
    "fig, ax = plt.subplots()\n",
    "\n",
    "ax.plot(train['date'], train['eps'], 'g-', label=\"Train\")\n",
    "ax.plot(test['date'], test['eps'], 'b-.', label=\"Test\")\n",
    "ax.plot(test['date'], test['pred_mean'], 'r--', label=\"Predicted\")\n",
    "\n",
    "ax.set_xlabel('Date')\n",
    "ax.set_ylabel('Earnings per share (USD)')\n",
    "ax.legend(loc=2)\n",
    "\n",
    "# Highlight the last four quarters, which the baseline will predict\n",
    "ax.axvspan(44, 47, color=\"#808080\", alpha=0.2)\n",
    "\n",
    "# Label ticks\n",
    "plt.xticks(np.arange(2, 47, 4), [2010, 2011, 2012, 2013, 2014, 2015, 2016, 2017, 2018, 2019, 2020, 2021])\n",
    "plt.tight_layout()"
   ]
  },
  {
   "cell_type": "markdown",
   "metadata": {},
   "source": [
    "Comments: The prediction line is significantly different than the actual values for 2020-2021. Given the obvious and consistent upward trend, historical mean is likely not the most effective baseline. A more recent period of time could improve the prediction."
   ]
  },
  {
   "cell_type": "markdown",
   "metadata": {},
   "source": [
    "#### 2. Last year's mean"
   ]
  },
  {
   "cell_type": "code",
   "execution_count": 125,
   "metadata": {},
   "outputs": [
    {
     "name": "stdout",
     "output_type": "stream",
     "text": [
      "4.46\n"
     ]
    }
   ],
   "source": [
    "# Calculate the mean from the last four quarters\n",
    "last_year_mean = np.mean(train.eps[-4:])\n",
    "print(last_year_mean)"
   ]
  },
  {
   "cell_type": "code",
   "execution_count": 126,
   "metadata": {},
   "outputs": [
    {
     "data": {
      "text/html": [
       "<div>\n",
       "<style scoped>\n",
       "    .dataframe tbody tr th:only-of-type {\n",
       "        vertical-align: middle;\n",
       "    }\n",
       "\n",
       "    .dataframe tbody tr th {\n",
       "        vertical-align: top;\n",
       "    }\n",
       "\n",
       "    .dataframe thead th {\n",
       "        text-align: right;\n",
       "    }\n",
       "</style>\n",
       "<table border=\"1\" class=\"dataframe\">\n",
       "  <thead>\n",
       "    <tr style=\"text-align: right;\">\n",
       "      <th></th>\n",
       "      <th>date</th>\n",
       "      <th>eps</th>\n",
       "      <th>pred_mean</th>\n",
       "      <th>pred_last_yr_mean</th>\n",
       "    </tr>\n",
       "  </thead>\n",
       "  <tbody>\n",
       "    <tr>\n",
       "      <th>44</th>\n",
       "      <td>2020-07-30</td>\n",
       "      <td>5.81</td>\n",
       "      <td>2.273415</td>\n",
       "      <td>4.46</td>\n",
       "    </tr>\n",
       "    <tr>\n",
       "      <th>45</th>\n",
       "      <td>2020-11-05</td>\n",
       "      <td>4.41</td>\n",
       "      <td>2.273415</td>\n",
       "      <td>4.46</td>\n",
       "    </tr>\n",
       "    <tr>\n",
       "      <th>46</th>\n",
       "      <td>2021-02-04</td>\n",
       "      <td>3.51</td>\n",
       "      <td>2.273415</td>\n",
       "      <td>4.46</td>\n",
       "    </tr>\n",
       "    <tr>\n",
       "      <th>47</th>\n",
       "      <td>2021-05-07</td>\n",
       "      <td>4.73</td>\n",
       "      <td>2.273415</td>\n",
       "      <td>4.46</td>\n",
       "    </tr>\n",
       "  </tbody>\n",
       "</table>\n",
       "</div>"
      ],
      "text/plain": [
       "          date   eps  pred_mean  pred_last_yr_mean\n",
       "44  2020-07-30  5.81   2.273415               4.46\n",
       "45  2020-11-05  4.41   2.273415               4.46\n",
       "46  2021-02-04  3.51   2.273415               4.46\n",
       "47  2021-05-07  4.73   2.273415               4.46"
      ]
     },
     "execution_count": 126,
     "metadata": {},
     "output_type": "execute_result"
    }
   ],
   "source": [
    "# Create a new column with the last year's mean value\n",
    "test.loc[:, 'pred_last_yr_mean'] = last_year_mean\n",
    "test"
   ]
  },
  {
   "cell_type": "code",
   "execution_count": 128,
   "metadata": {},
   "outputs": [
    {
     "name": "stdout",
     "output_type": "stream",
     "text": [
      "14.285839875240669\n"
     ]
    }
   ],
   "source": [
    "# Calculate MAPE\n",
    "mape_last_yr_mean = mape(test['eps'], test['pred_last_yr_mean'])\n",
    "print(mape_last_yr_mean)"
   ]
  },
  {
   "cell_type": "code",
   "execution_count": 129,
   "metadata": {},
   "outputs": [
    {
     "data": {
      "image/png": "[encoded data removed]",
      "text/plain": [
       "<Figure size 640x480 with 1 Axes>"
      ]
     },
     "metadata": {},
     "output_type": "display_data"
    }
   ],
   "source": [
    "# Visualize last year's mean forecast\n",
    "# Plot data in a line graph\n",
    "fig, ax = plt.subplots()\n",
    "\n",
    "ax.plot(train['date'], train['eps'], 'g-', label=\"Train\")\n",
    "ax.plot(test['date'], test['eps'], 'b-.', label=\"Test\")\n",
    "ax.plot(test['date'], test['pred_last_yr_mean'], 'r--', label=\"Predicted\")\n",
    "\n",
    "ax.set_xlabel('Date')\n",
    "ax.set_ylabel('Earnings per share (USD)')\n",
    "ax.legend(loc=2)\n",
    "\n",
    "# Highlight the last four quarters, which the baseline will predict\n",
    "ax.axvspan(44, 47, color=\"#808080\", alpha=0.2)\n",
    "\n",
    "# Label ticks\n",
    "plt.xticks(np.arange(2, 47, 4), [2010, 2011, 2012, 2013, 2014, 2015, 2016, 2017, 2018, 2019, 2020, 2021])\n",
    "plt.tight_layout()"
   ]
  },
  {
   "cell_type": "markdown",
   "metadata": {},
   "source": [
    "Comments: The last year's mean baseline is a clear improvement on the overall mean, visible in the line graph as well as the improvement of MAPE from ~49% to ~14%."
   ]
  },
  {
   "cell_type": "markdown",
   "metadata": {},
   "source": [
    "#### 3. Last known value"
   ]
  },
  {
   "cell_type": "code",
   "execution_count": 130,
   "metadata": {},
   "outputs": [
    {
     "name": "stdout",
     "output_type": "stream",
     "text": [
      "4.69\n"
     ]
    }
   ],
   "source": [
    "# Extract the last known value from the training set\n",
    "#  (last quarter of 1979)\n",
    "last = train.eps.iloc[-1]\n",
    "print(last)"
   ]
  },
  {
   "cell_type": "markdown",
   "metadata": {},
   "source": [
    "Comments: Note that the last known value is close to last year's mean (4.46)."
   ]
  },
  {
   "cell_type": "code",
   "execution_count": 131,
   "metadata": {},
   "outputs": [
    {
     "data": {
      "text/html": [
       "<div>\n",
       "<style scoped>\n",
       "    .dataframe tbody tr th:only-of-type {\n",
       "        vertical-align: middle;\n",
       "    }\n",
       "\n",
       "    .dataframe tbody tr th {\n",
       "        vertical-align: top;\n",
       "    }\n",
       "\n",
       "    .dataframe thead th {\n",
       "        text-align: right;\n",
       "    }\n",
       "</style>\n",
       "<table border=\"1\" class=\"dataframe\">\n",
       "  <thead>\n",
       "    <tr style=\"text-align: right;\">\n",
       "      <th></th>\n",
       "      <th>date</th>\n",
       "      <th>eps</th>\n",
       "      <th>pred_mean</th>\n",
       "      <th>pred_last_yr_mean</th>\n",
       "      <th>pred_last</th>\n",
       "    </tr>\n",
       "  </thead>\n",
       "  <tbody>\n",
       "    <tr>\n",
       "      <th>44</th>\n",
       "      <td>2020-07-30</td>\n",
       "      <td>5.81</td>\n",
       "      <td>2.273415</td>\n",
       "      <td>4.46</td>\n",
       "      <td>4.69</td>\n",
       "    </tr>\n",
       "    <tr>\n",
       "      <th>45</th>\n",
       "      <td>2020-11-05</td>\n",
       "      <td>4.41</td>\n",
       "      <td>2.273415</td>\n",
       "      <td>4.46</td>\n",
       "      <td>4.69</td>\n",
       "    </tr>\n",
       "    <tr>\n",
       "      <th>46</th>\n",
       "      <td>2021-02-04</td>\n",
       "      <td>3.51</td>\n",
       "      <td>2.273415</td>\n",
       "      <td>4.46</td>\n",
       "      <td>4.69</td>\n",
       "    </tr>\n",
       "    <tr>\n",
       "      <th>47</th>\n",
       "      <td>2021-05-07</td>\n",
       "      <td>4.73</td>\n",
       "      <td>2.273415</td>\n",
       "      <td>4.46</td>\n",
       "      <td>4.69</td>\n",
       "    </tr>\n",
       "  </tbody>\n",
       "</table>\n",
       "</div>"
      ],
      "text/plain": [
       "          date   eps  pred_mean  pred_last_yr_mean  pred_last\n",
       "44  2020-07-30  5.81   2.273415               4.46       4.69\n",
       "45  2020-11-05  4.41   2.273415               4.46       4.69\n",
       "46  2021-02-04  3.51   2.273415               4.46       4.69\n",
       "47  2021-05-07  4.73   2.273415               4.46       4.69"
      ]
     },
     "execution_count": 131,
     "metadata": {},
     "output_type": "execute_result"
    }
   ],
   "source": [
    "# Create a new column to display the last known value\n",
    "test.loc[:,'pred_last'] = last\n",
    "test"
   ]
  },
  {
   "cell_type": "code",
   "execution_count": 132,
   "metadata": {},
   "outputs": [
    {
     "name": "stdout",
     "output_type": "stream",
     "text": [
      "15.022553590779989\n"
     ]
    }
   ],
   "source": [
    "# Calculate the MAPE for the last known value\n",
    "mape_last = mape(test['eps'], test['pred_last'])\n",
    "print(mape_last)"
   ]
  },
  {
   "cell_type": "code",
   "execution_count": 133,
   "metadata": {},
   "outputs": [
    {
     "data": {
      "image/png": "[encoded data removed]",
      "text/plain": [
       "<Figure size 640x480 with 1 Axes>"
      ]
     },
     "metadata": {},
     "output_type": "display_data"
    }
   ],
   "source": [
    "# Visualize last year's mean forecast\n",
    "# Plot data in a line graph\n",
    "fig, ax = plt.subplots()\n",
    "\n",
    "ax.plot(train['date'], train['eps'], 'g-', label=\"Train\")\n",
    "ax.plot(test['date'], test['eps'], 'b-.', label=\"Test\")\n",
    "ax.plot(test['date'], test['pred_last'], 'r--', label=\"Predicted\")\n",
    "\n",
    "ax.set_xlabel('Date')\n",
    "ax.set_ylabel('Earnings per share (USD)')\n",
    "ax.legend(loc=2)\n",
    "\n",
    "# Highlight the last four quarters, which the baseline will predict\n",
    "ax.axvspan(44, 47, color=\"#808080\", alpha=0.2)\n",
    "\n",
    "# Label ticks\n",
    "plt.xticks(np.arange(2, 47, 4), [2010, 2011, 2012, 2013, 2014, 2015, 2016, 2017, 2018, 2019, 2020, 2021])\n",
    "plt.tight_layout()"
   ]
  },
  {
   "cell_type": "markdown",
   "metadata": {},
   "source": [
    "Comments: The last known value did not improve the MAPE score compared to the last year's values mean. "
   ]
  },
  {
   "cell_type": "markdown",
   "metadata": {},
   "source": [
    "#### 4. Seasonal Forecast\n",
    "Considering the seasonal cyclical behavior of the data, seasonal forecast could be useful as a baseline model. This baseline model take the last observed cycle and repeats it into the future."
   ]
  },
  {
   "cell_type": "code",
   "execution_count": 134,
   "metadata": {},
   "outputs": [
    {
     "data": {
      "text/html": [
       "<div>\n",
       "<style scoped>\n",
       "    .dataframe tbody tr th:only-of-type {\n",
       "        vertical-align: middle;\n",
       "    }\n",
       "\n",
       "    .dataframe tbody tr th {\n",
       "        vertical-align: top;\n",
       "    }\n",
       "\n",
       "    .dataframe thead th {\n",
       "        text-align: right;\n",
       "    }\n",
       "</style>\n",
       "<table border=\"1\" class=\"dataframe\">\n",
       "  <thead>\n",
       "    <tr style=\"text-align: right;\">\n",
       "      <th></th>\n",
       "      <th>date</th>\n",
       "      <th>eps</th>\n",
       "      <th>pred_mean</th>\n",
       "      <th>pred_last_yr_mean</th>\n",
       "      <th>pred_last</th>\n",
       "      <th>pred_last_season</th>\n",
       "    </tr>\n",
       "  </thead>\n",
       "  <tbody>\n",
       "    <tr>\n",
       "      <th>44</th>\n",
       "      <td>2020-07-30</td>\n",
       "      <td>5.81</td>\n",
       "      <td>2.273415</td>\n",
       "      <td>4.46</td>\n",
       "      <td>4.69</td>\n",
       "      <td>4.30</td>\n",
       "    </tr>\n",
       "    <tr>\n",
       "      <th>45</th>\n",
       "      <td>2020-11-05</td>\n",
       "      <td>4.41</td>\n",
       "      <td>2.273415</td>\n",
       "      <td>4.46</td>\n",
       "      <td>4.69</td>\n",
       "      <td>4.54</td>\n",
       "    </tr>\n",
       "    <tr>\n",
       "      <th>46</th>\n",
       "      <td>2021-02-04</td>\n",
       "      <td>3.51</td>\n",
       "      <td>2.273415</td>\n",
       "      <td>4.46</td>\n",
       "      <td>4.69</td>\n",
       "      <td>4.31</td>\n",
       "    </tr>\n",
       "    <tr>\n",
       "      <th>47</th>\n",
       "      <td>2021-05-07</td>\n",
       "      <td>4.73</td>\n",
       "      <td>2.273415</td>\n",
       "      <td>4.46</td>\n",
       "      <td>4.69</td>\n",
       "      <td>4.69</td>\n",
       "    </tr>\n",
       "  </tbody>\n",
       "</table>\n",
       "</div>"
      ],
      "text/plain": [
       "          date   eps  pred_mean  pred_last_yr_mean  pred_last  \\\n",
       "44  2020-07-30  5.81   2.273415               4.46       4.69   \n",
       "45  2020-11-05  4.41   2.273415               4.46       4.69   \n",
       "46  2021-02-04  3.51   2.273415               4.46       4.69   \n",
       "47  2021-05-07  4.73   2.273415               4.46       4.69   \n",
       "\n",
       "    pred_last_season  \n",
       "44              4.30  \n",
       "45              4.54  \n",
       "46              4.31  \n",
       "47              4.69  "
      ]
     },
     "execution_count": 134,
     "metadata": {},
     "output_type": "execute_result"
    }
   ],
   "source": [
    "# Assign the last four values to corresponding quarters in the previous year\n",
    "\n",
    "# Append values to the test DataFrame to hold the predictions\n",
    "test.loc[:, 'pred_last_season'] = train['eps'][-4:].values\n",
    "test"
   ]
  },
  {
   "cell_type": "code",
   "execution_count": 136,
   "metadata": {},
   "outputs": [
    {
     "name": "stdout",
     "output_type": "stream",
     "text": [
      "13.143801884145315\n"
     ]
    }
   ],
   "source": [
    "# Calculate the MAPE for seasonal forecast\n",
    "mape_seasonal = mape(test['eps'], test['pred_last_season'])\n",
    "print(mape_seasonal)"
   ]
  },
  {
   "cell_type": "code",
   "execution_count": 135,
   "metadata": {},
   "outputs": [
    {
     "data": {
      "image/png": "[encoded data removed]",
      "text/plain": [
       "<Figure size 640x480 with 1 Axes>"
      ]
     },
     "metadata": {},
     "output_type": "display_data"
    }
   ],
   "source": [
    "# Visualize last year's mean forecast\n",
    "# Plot data in a line graph\n",
    "fig, ax = plt.subplots()\n",
    "\n",
    "ax.plot(train['date'], train['eps'], 'g-', label=\"Train\")\n",
    "ax.plot(test['date'], test['eps'], 'b-.', label=\"Test\")\n",
    "ax.plot(test['date'], test['pred_last_season'], 'r--', label=\"Predicted\")\n",
    "\n",
    "ax.set_xlabel('Date')\n",
    "ax.set_ylabel('Earnings per share (USD)')\n",
    "ax.legend(loc=2)\n",
    "\n",
    "# Highlight the last four quarters, which the baseline will predict\n",
    "ax.axvspan(44, 47, color=\"#808080\", alpha=0.2)\n",
    "\n",
    "# Label ticks\n",
    "plt.xticks(np.arange(2, 47, 4), [2010, 2011, 2012, 2013, 2014, 2015, 2016, 2017, 2018, 2019, 2020, 2021])\n",
    "plt.tight_layout()"
   ]
  },
  {
   "cell_type": "markdown",
   "metadata": {},
   "source": [
    "Comments: As hypothesized, the seasonal forecast shows a slight improvement in MAPE. This is also demonstrated in the line graph."
   ]
  },
  {
   "cell_type": "markdown",
   "metadata": {},
   "source": [
    "### Conclusions\n",
    "Due to the cyclical nature of the data, the seasonal forecast is expected to be the best baseline model to use in constructing the model."
   ]
  },
  {
   "cell_type": "markdown",
   "metadata": {},
   "source": []
  }
 ],
 "metadata": {
  "kernelspec": {
   "display_name": "Python 3",
   "language": "python",
   "name": "python3"
  },
  "language_info": {
   "codemirror_mode": {
    "name": "ipython",
    "version": 3
   },
   "file_extension": ".py",
   "mimetype": "text/x-python",
   "name": "python",
   "nbconvert_exporter": "python",
   "pygments_lexer": "ipython3",
   "version": "3.12.1"
  }
 },
 "nbformat": 4,
 "nbformat_minor": 2
}
