{
 "cells": [
  {
   "cell_type": "markdown",
   "id": "e9079af3",
   "metadata": {},
   "source": [
    "# Series de Tiempo\n",
    "## Ejemplos con IBM & Walmart \n",
    "Katlyn Goeujon-Mackness <br>\n",
    "28-04-2025"
   ]
  },
  {
   "cell_type": "markdown",
   "id": "d2c0d49b",
   "metadata": {},
   "source": [
    "Considera la información histórica diaria de precios para las empresas IBM y Walmart contenida en el sitio de Yahoo finance (http://finance.yahoo.com) durante los últimos 5 años. "
   ]
  },
  {
   "cell_type": "code",
   "execution_count": 2,
   "id": "508679d7",
   "metadata": {},
   "outputs": [],
   "source": [
    "# Cargar librerías \n",
    "import yfinance as yf\n",
    "import pandas as pd\n",
    "import matplotlib.pyplot as plt\n",
    "import warnings\n",
    "warnings.filterwarnings('ignore')"
   ]
  },
  {
   "cell_type": "code",
   "execution_count": null,
   "id": "71ecbbf6",
   "metadata": {},
   "outputs": [
    {
     "name": "stdout",
     "output_type": "stream",
     "text": [
      "YF.download() has changed argument auto_adjust default to True\n"
     ]
    },
    {
     "name": "stderr",
     "output_type": "stream",
     "text": [
      "[*********************100%***********************]  1 of 1 completed\n"
     ]
    }
   ],
   "source": [
    "ibm = yf.download(tickers='ibm', period = '5y', interval = '1d', rounding=True)"
   ]
  },
  {
   "cell_type": "code",
   "execution_count": 7,
   "id": "3ddf4ce9",
   "metadata": {},
   "outputs": [
    {
     "data": {
      "text/html": [
       "<div>\n",
       "<style scoped>\n",
       "    .dataframe tbody tr th:only-of-type {\n",
       "        vertical-align: middle;\n",
       "    }\n",
       "\n",
       "    .dataframe tbody tr th {\n",
       "        vertical-align: top;\n",
       "    }\n",
       "\n",
       "    .dataframe thead th {\n",
       "        text-align: right;\n",
       "    }\n",
       "</style>\n",
       "<table border=\"1\" class=\"dataframe\">\n",
       "  <thead>\n",
       "    <tr style=\"text-align: right;\">\n",
       "      <th>Ticker</th>\n",
       "      <th>IBM</th>\n",
       "    </tr>\n",
       "    <tr>\n",
       "      <th>Date</th>\n",
       "      <th></th>\n",
       "    </tr>\n",
       "  </thead>\n",
       "  <tbody>\n",
       "    <tr>\n",
       "      <th>2020-04-28</th>\n",
       "      <td>96.02</td>\n",
       "    </tr>\n",
       "    <tr>\n",
       "      <th>2020-04-29</th>\n",
       "      <td>97.87</td>\n",
       "    </tr>\n",
       "    <tr>\n",
       "      <th>2020-04-30</th>\n",
       "      <td>95.48</td>\n",
       "    </tr>\n",
       "    <tr>\n",
       "      <th>2020-05-01</th>\n",
       "      <td>92.68</td>\n",
       "    </tr>\n",
       "    <tr>\n",
       "      <th>2020-05-04</th>\n",
       "      <td>92.53</td>\n",
       "    </tr>\n",
       "    <tr>\n",
       "      <th>...</th>\n",
       "      <td>...</td>\n",
       "    </tr>\n",
       "    <tr>\n",
       "      <th>2025-04-22</th>\n",
       "      <td>240.90</td>\n",
       "    </tr>\n",
       "    <tr>\n",
       "      <th>2025-04-23</th>\n",
       "      <td>245.48</td>\n",
       "    </tr>\n",
       "    <tr>\n",
       "      <th>2025-04-24</th>\n",
       "      <td>229.33</td>\n",
       "    </tr>\n",
       "    <tr>\n",
       "      <th>2025-04-25</th>\n",
       "      <td>232.41</td>\n",
       "    </tr>\n",
       "    <tr>\n",
       "      <th>2025-04-28</th>\n",
       "      <td>235.32</td>\n",
       "    </tr>\n",
       "  </tbody>\n",
       "</table>\n",
       "<p>1257 rows × 1 columns</p>\n",
       "</div>"
      ],
      "text/plain": [
       "Ticker         IBM\n",
       "Date              \n",
       "2020-04-28   96.02\n",
       "2020-04-29   97.87\n",
       "2020-04-30   95.48\n",
       "2020-05-01   92.68\n",
       "2020-05-04   92.53\n",
       "...            ...\n",
       "2025-04-22  240.90\n",
       "2025-04-23  245.48\n",
       "2025-04-24  229.33\n",
       "2025-04-25  232.41\n",
       "2025-04-28  235.32\n",
       "\n",
       "[1257 rows x 1 columns]"
      ]
     },
     "execution_count": 7,
     "metadata": {},
     "output_type": "execute_result"
    }
   ],
   "source": [
    "ibm = ibm['Close']\n",
    "ibm"
   ]
  },
  {
   "cell_type": "code",
   "execution_count": 5,
   "id": "23328a2c",
   "metadata": {},
   "outputs": [
    {
     "name": "stderr",
     "output_type": "stream",
     "text": [
      "[*********************100%***********************]  1 of 1 completed\n"
     ]
    }
   ],
   "source": [
    "wmt = yf.download(tickers='wmt', period = '5y', interval = '1d', rounding=True)"
   ]
  },
  {
   "cell_type": "code",
   "execution_count": 9,
   "id": "033b403a",
   "metadata": {},
   "outputs": [
    {
     "data": {
      "text/html": [
       "<div>\n",
       "<style scoped>\n",
       "    .dataframe tbody tr th:only-of-type {\n",
       "        vertical-align: middle;\n",
       "    }\n",
       "\n",
       "    .dataframe tbody tr th {\n",
       "        vertical-align: top;\n",
       "    }\n",
       "\n",
       "    .dataframe thead th {\n",
       "        text-align: right;\n",
       "    }\n",
       "</style>\n",
       "<table border=\"1\" class=\"dataframe\">\n",
       "  <thead>\n",
       "    <tr style=\"text-align: right;\">\n",
       "      <th>Ticker</th>\n",
       "      <th>WMT</th>\n",
       "    </tr>\n",
       "    <tr>\n",
       "      <th>Date</th>\n",
       "      <th></th>\n",
       "    </tr>\n",
       "  </thead>\n",
       "  <tbody>\n",
       "    <tr>\n",
       "      <th>2020-04-28</th>\n",
       "      <td>39.65</td>\n",
       "    </tr>\n",
       "    <tr>\n",
       "      <th>2020-04-29</th>\n",
       "      <td>38.29</td>\n",
       "    </tr>\n",
       "    <tr>\n",
       "      <th>2020-04-30</th>\n",
       "      <td>37.65</td>\n",
       "    </tr>\n",
       "    <tr>\n",
       "      <th>2020-05-01</th>\n",
       "      <td>38.08</td>\n",
       "    </tr>\n",
       "    <tr>\n",
       "      <th>2020-05-04</th>\n",
       "      <td>38.32</td>\n",
       "    </tr>\n",
       "    <tr>\n",
       "      <th>...</th>\n",
       "      <td>...</td>\n",
       "    </tr>\n",
       "    <tr>\n",
       "      <th>2025-04-22</th>\n",
       "      <td>94.85</td>\n",
       "    </tr>\n",
       "    <tr>\n",
       "      <th>2025-04-23</th>\n",
       "      <td>94.96</td>\n",
       "    </tr>\n",
       "    <tr>\n",
       "      <th>2025-04-24</th>\n",
       "      <td>95.84</td>\n",
       "    </tr>\n",
       "    <tr>\n",
       "      <th>2025-04-25</th>\n",
       "      <td>95.09</td>\n",
       "    </tr>\n",
       "    <tr>\n",
       "      <th>2025-04-28</th>\n",
       "      <td>94.79</td>\n",
       "    </tr>\n",
       "  </tbody>\n",
       "</table>\n",
       "<p>1257 rows × 1 columns</p>\n",
       "</div>"
      ],
      "text/plain": [
       "Ticker        WMT\n",
       "Date             \n",
       "2020-04-28  39.65\n",
       "2020-04-29  38.29\n",
       "2020-04-30  37.65\n",
       "2020-05-01  38.08\n",
       "2020-05-04  38.32\n",
       "...           ...\n",
       "2025-04-22  94.85\n",
       "2025-04-23  94.96\n",
       "2025-04-24  95.84\n",
       "2025-04-25  95.09\n",
       "2025-04-28  94.79\n",
       "\n",
       "[1257 rows x 1 columns]"
      ]
     },
     "execution_count": 9,
     "metadata": {},
     "output_type": "execute_result"
    }
   ],
   "source": [
    "wmt = wmt['Close']\n",
    "wmt"
   ]
  },
  {
   "cell_type": "markdown",
   "id": "9c4048bb",
   "metadata": {},
   "source": [
    "**¿Existe alguna correlación entre los precios de las acciones de ambas empresas?**\n",
    " Explica tanto de forma gráfica como a través del índice de correlación."
   ]
  },
  {
   "cell_type": "code",
   "execution_count": 15,
   "id": "a5cb1508",
   "metadata": {},
   "outputs": [
    {
     "data": {
      "image/png": "[encoded data removed]",
      "text/plain": [
       "<Figure size 640x480 with 1 Axes>"
      ]
     },
     "metadata": {},
     "output_type": "display_data"
    }
   ],
   "source": [
    "# Comparar los tickers \n",
    "plt.figure()\n",
    "plt.plot(ibm, label=\"IBM\")\n",
    "plt.plot(wmt, label=\"Walmart\")\n",
    "plt.title('Comparación de precios IBM - Walmart')\n",
    "plt.legend()\n",
    "plt.show()"
   ]
  },
  {
   "cell_type": "code",
   "execution_count": 16,
   "id": "514248c6",
   "metadata": {},
   "outputs": [
    {
     "name": "stderr",
     "output_type": "stream",
     "text": [
      "[*********************100%***********************]  2 of 2 completed\n"
     ]
    }
   ],
   "source": [
    "ibm_wmt = yf.download(tickers='ibm wmt', period = '5y', interval = '1d', rounding=True)\n",
    "ibm_wmt = ibm_wmt['Close']"
   ]
  },
  {
   "cell_type": "code",
   "execution_count": 19,
   "id": "bc25eb1a",
   "metadata": {},
   "outputs": [
    {
     "data": {
      "text/html": [
       "<div>\n",
       "<style scoped>\n",
       "    .dataframe tbody tr th:only-of-type {\n",
       "        vertical-align: middle;\n",
       "    }\n",
       "\n",
       "    .dataframe tbody tr th {\n",
       "        vertical-align: top;\n",
       "    }\n",
       "\n",
       "    .dataframe thead th {\n",
       "        text-align: right;\n",
       "    }\n",
       "</style>\n",
       "<table border=\"1\" class=\"dataframe\">\n",
       "  <thead>\n",
       "    <tr style=\"text-align: right;\">\n",
       "      <th>Ticker</th>\n",
       "      <th>IBM</th>\n",
       "      <th>WMT</th>\n",
       "    </tr>\n",
       "    <tr>\n",
       "      <th>Date</th>\n",
       "      <th></th>\n",
       "      <th></th>\n",
       "    </tr>\n",
       "  </thead>\n",
       "  <tbody>\n",
       "    <tr>\n",
       "      <th>2020-04-28</th>\n",
       "      <td>NaN</td>\n",
       "      <td>NaN</td>\n",
       "    </tr>\n",
       "    <tr>\n",
       "      <th>2020-04-29</th>\n",
       "      <td>0.019267</td>\n",
       "      <td>-0.034300</td>\n",
       "    </tr>\n",
       "    <tr>\n",
       "      <th>2020-04-30</th>\n",
       "      <td>-0.024420</td>\n",
       "      <td>-0.016715</td>\n",
       "    </tr>\n",
       "    <tr>\n",
       "      <th>2020-05-01</th>\n",
       "      <td>-0.029326</td>\n",
       "      <td>0.011421</td>\n",
       "    </tr>\n",
       "    <tr>\n",
       "      <th>2020-05-04</th>\n",
       "      <td>-0.001618</td>\n",
       "      <td>0.006303</td>\n",
       "    </tr>\n",
       "    <tr>\n",
       "      <th>...</th>\n",
       "      <td>...</td>\n",
       "      <td>...</td>\n",
       "    </tr>\n",
       "    <tr>\n",
       "      <th>2025-04-22</th>\n",
       "      <td>0.019812</td>\n",
       "      <td>0.026404</td>\n",
       "    </tr>\n",
       "    <tr>\n",
       "      <th>2025-04-23</th>\n",
       "      <td>0.019012</td>\n",
       "      <td>0.001160</td>\n",
       "    </tr>\n",
       "    <tr>\n",
       "      <th>2025-04-24</th>\n",
       "      <td>-0.065789</td>\n",
       "      <td>0.009267</td>\n",
       "    </tr>\n",
       "    <tr>\n",
       "      <th>2025-04-25</th>\n",
       "      <td>0.013430</td>\n",
       "      <td>-0.007826</td>\n",
       "    </tr>\n",
       "    <tr>\n",
       "      <th>2025-04-28</th>\n",
       "      <td>0.014199</td>\n",
       "      <td>-0.002839</td>\n",
       "    </tr>\n",
       "  </tbody>\n",
       "</table>\n",
       "<p>1257 rows × 2 columns</p>\n",
       "</div>"
      ],
      "text/plain": [
       "Ticker           IBM       WMT\n",
       "Date                          \n",
       "2020-04-28       NaN       NaN\n",
       "2020-04-29  0.019267 -0.034300\n",
       "2020-04-30 -0.024420 -0.016715\n",
       "2020-05-01 -0.029326  0.011421\n",
       "2020-05-04 -0.001618  0.006303\n",
       "...              ...       ...\n",
       "2025-04-22  0.019812  0.026404\n",
       "2025-04-23  0.019012  0.001160\n",
       "2025-04-24 -0.065789  0.009267\n",
       "2025-04-25  0.013430 -0.007826\n",
       "2025-04-28  0.014199 -0.002839\n",
       "\n",
       "[1257 rows x 2 columns]"
      ]
     },
     "execution_count": 19,
     "metadata": {},
     "output_type": "execute_result"
    }
   ],
   "source": [
    "rend_ibm_wmt = ibm_wmt.pct_change()\n",
    "rend_ibm_wmt"
   ]
  },
  {
   "cell_type": "code",
   "execution_count": 21,
   "id": "b4b34321",
   "metadata": {},
   "outputs": [
    {
     "data": {
      "text/html": [
       "<div>\n",
       "<style scoped>\n",
       "    .dataframe tbody tr th:only-of-type {\n",
       "        vertical-align: middle;\n",
       "    }\n",
       "\n",
       "    .dataframe tbody tr th {\n",
       "        vertical-align: top;\n",
       "    }\n",
       "\n",
       "    .dataframe thead th {\n",
       "        text-align: right;\n",
       "    }\n",
       "</style>\n",
       "<table border=\"1\" class=\"dataframe\">\n",
       "  <thead>\n",
       "    <tr style=\"text-align: right;\">\n",
       "      <th>Ticker</th>\n",
       "      <th>IBM</th>\n",
       "      <th>WMT</th>\n",
       "    </tr>\n",
       "    <tr>\n",
       "      <th>Date</th>\n",
       "      <th></th>\n",
       "      <th></th>\n",
       "    </tr>\n",
       "  </thead>\n",
       "  <tbody>\n",
       "    <tr>\n",
       "      <th>2020-04-29</th>\n",
       "      <td>0.019267</td>\n",
       "      <td>-0.034300</td>\n",
       "    </tr>\n",
       "    <tr>\n",
       "      <th>2020-04-30</th>\n",
       "      <td>-0.024420</td>\n",
       "      <td>-0.016715</td>\n",
       "    </tr>\n",
       "    <tr>\n",
       "      <th>2020-05-01</th>\n",
       "      <td>-0.029326</td>\n",
       "      <td>0.011421</td>\n",
       "    </tr>\n",
       "    <tr>\n",
       "      <th>2020-05-04</th>\n",
       "      <td>-0.001618</td>\n",
       "      <td>0.006303</td>\n",
       "    </tr>\n",
       "    <tr>\n",
       "      <th>2020-05-05</th>\n",
       "      <td>0.007457</td>\n",
       "      <td>0.008351</td>\n",
       "    </tr>\n",
       "    <tr>\n",
       "      <th>...</th>\n",
       "      <td>...</td>\n",
       "      <td>...</td>\n",
       "    </tr>\n",
       "    <tr>\n",
       "      <th>2025-04-22</th>\n",
       "      <td>0.019812</td>\n",
       "      <td>0.026404</td>\n",
       "    </tr>\n",
       "    <tr>\n",
       "      <th>2025-04-23</th>\n",
       "      <td>0.019012</td>\n",
       "      <td>0.001160</td>\n",
       "    </tr>\n",
       "    <tr>\n",
       "      <th>2025-04-24</th>\n",
       "      <td>-0.065789</td>\n",
       "      <td>0.009267</td>\n",
       "    </tr>\n",
       "    <tr>\n",
       "      <th>2025-04-25</th>\n",
       "      <td>0.013430</td>\n",
       "      <td>-0.007826</td>\n",
       "    </tr>\n",
       "    <tr>\n",
       "      <th>2025-04-28</th>\n",
       "      <td>0.014199</td>\n",
       "      <td>-0.002839</td>\n",
       "    </tr>\n",
       "  </tbody>\n",
       "</table>\n",
       "<p>1256 rows × 2 columns</p>\n",
       "</div>"
      ],
      "text/plain": [
       "Ticker           IBM       WMT\n",
       "Date                          \n",
       "2020-04-29  0.019267 -0.034300\n",
       "2020-04-30 -0.024420 -0.016715\n",
       "2020-05-01 -0.029326  0.011421\n",
       "2020-05-04 -0.001618  0.006303\n",
       "2020-05-05  0.007457  0.008351\n",
       "...              ...       ...\n",
       "2025-04-22  0.019812  0.026404\n",
       "2025-04-23  0.019012  0.001160\n",
       "2025-04-24 -0.065789  0.009267\n",
       "2025-04-25  0.013430 -0.007826\n",
       "2025-04-28  0.014199 -0.002839\n",
       "\n",
       "[1256 rows x 2 columns]"
      ]
     },
     "execution_count": 21,
     "metadata": {},
     "output_type": "execute_result"
    }
   ],
   "source": [
    "rend_ibm_wmt.dropna(inplace=True)\n",
    "rend_ibm_wmt"
   ]
  },
  {
   "cell_type": "code",
   "execution_count": 22,
   "id": "bcc68209",
   "metadata": {},
   "outputs": [
    {
     "name": "stdout",
     "output_type": "stream",
     "text": [
      "Correlación entre IBM y Walmart: 0.2058687006182558\n"
     ]
    }
   ],
   "source": [
    "correlacion = rend_ibm_wmt['IBM'].corr(rend_ibm_wmt['WMT'])\n",
    "print(\"Correlación entre IBM y Walmart:\", correlacion)"
   ]
  },
  {
   "cell_type": "markdown",
   "id": "5ff679e0",
   "metadata": {},
   "source": [
    "### Descomposición\n",
    "Obtén los gráficos de descomposición para ambas series de precios así como sus correlogramas."
   ]
  },
  {
   "cell_type": "markdown",
   "id": "890b8c60",
   "metadata": {},
   "source": [
    "### Interpretación"
   ]
  },
  {
   "cell_type": "markdown",
   "id": "5c2621a5",
   "metadata": {},
   "source": []
  },
  {
   "cell_type": "markdown",
   "id": "2009e8c8",
   "metadata": {},
   "source": [
    "### Evaluación \n",
    "Aplica e interpreta la prueba de Dickey-Fuller para ambas series."
   ]
  },
  {
   "cell_type": "markdown",
   "id": "72f440cb",
   "metadata": {},
   "source": [
    "### Promedios Móviles\n",
    "Haz un análisis gráfico de promedios móviles para ambas empresas y pronostica el siguiente día de cotizaciones. ¿Esperarías que dichos pronósticos sean buenos? Explica a detalle."
   ]
  },
  {
   "cell_type": "markdown",
   "id": "a860bbb0",
   "metadata": {},
   "source": []
  }
 ],
 "metadata": {
  "kernelspec": {
   "display_name": "Python 3",
   "language": "python",
   "name": "python3"
  },
  "language_info": {
   "codemirror_mode": {
    "name": "ipython",
    "version": 3
   },
   "file_extension": ".py",
   "mimetype": "text/x-python",
   "name": "python",
   "nbconvert_exporter": "python",
   "pygments_lexer": "ipython3",
   "version": "3.12.1"
  }
 },
 "nbformat": 4,
 "nbformat_minor": 5
}
