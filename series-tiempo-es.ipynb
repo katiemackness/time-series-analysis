{
 "cells": [
  {
   "cell_type": "markdown",
   "id": "3e77aeee",
   "metadata": {},
   "source": [
    "# Series de Tiempo y Promedios Móviles\n",
    "07-04-2025 <br>\n",
    "Katlyn Goeujon-Mackness"
   ]
  },
  {
   "cell_type": "markdown",
   "id": "5117ac6f",
   "metadata": {},
   "source": [
    "## Descripción\n",
    "Este notebook efectúa un análisis exploratorio de series de tiempo de manera que puedas realizar pronósticos simples mediante el método de promedios móviles. <br>\n",
    "Se considera la información histórica diaria de precios para las empresas IBM y Walmart contenida en el sitio de Yahoo finance durante los últimos 5 años.\n",
    "\n",
    "## Objetivo\n",
    "Responder a la pregunta: ¿Existe alguna correlación entre los precios de las acciones de ambas empresas?<br>\n",
    "Explicar tando de forma gráfica como a través del índice de correlación."
   ]
  },
  {
   "cell_type": "markdown",
   "id": "c5986961",
   "metadata": {},
   "source": [
    "## Los Datos\n"
   ]
  },
  {
   "cell_type": "code",
   "execution_count": 1,
   "id": "14dddf14",
   "metadata": {},
   "outputs": [],
   "source": [
    "import pandas as pd"
   ]
  },
  {
   "cell_type": "markdown",
   "id": "7da67704",
   "metadata": {},
   "source": [
    "## Modelado"
   ]
  },
  {
   "cell_type": "markdown",
   "id": "2261d421",
   "metadata": {},
   "source": [
    "## Descomposición\n",
    "Obtén los gráficos de descomposición para ambas series de precios así como sus correlogramas. Interpreta tus resultados."
   ]
  },
  {
   "cell_type": "markdown",
   "id": "0e9c762b",
   "metadata": {},
   "source": [
    "## Evaluación\n",
    "Aplica e interpreta la prueba de Dickey-Fuller para ambas series."
   ]
  },
  {
   "cell_type": "markdown",
   "id": "797a3c55",
   "metadata": {},
   "source": [
    "## Análisis Gráfico\n",
    "Haz un análisis gráfico de promedios móviles para ambas empresas y pronostica el siguiente día de cotizaciones. ¿Esperarías que dichos pronósticos sean buenos? Explica a detalle."
   ]
  },
  {
   "cell_type": "markdown",
   "id": "2e8df093",
   "metadata": {},
   "source": []
  }
 ],
 "metadata": {
  "kernelspec": {
   "display_name": "Python 3",
   "language": "python",
   "name": "python3"
  },
  "language_info": {
   "codemirror_mode": {
    "name": "ipython",
    "version": 3
   },
   "file_extension": ".py",
   "mimetype": "text/x-python",
   "name": "python",
   "nbconvert_exporter": "python",
   "pygments_lexer": "ipython3",
   "version": "3.12.1"
  }
 },
 "nbformat": 4,
 "nbformat_minor": 5
}
