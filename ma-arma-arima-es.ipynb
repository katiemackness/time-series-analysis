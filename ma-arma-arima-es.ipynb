{
 "cells": [
  {
   "cell_type": "markdown",
   "id": "320c0888",
   "metadata": {},
   "source": [
    "# Modelos MA, ARMA y ARIMA"
   ]
  },
  {
   "cell_type": "markdown",
   "id": "fdc066de",
   "metadata": {},
   "source": [
    "Katlyn Goeujon-Mackness <br>\n",
    "03-05-2025"
   ]
  },
  {
   "cell_type": "markdown",
   "id": "11b81425",
   "metadata": {},
   "source": []
  }
 ],
 "metadata": {
  "language_info": {
   "name": "python"
  }
 },
 "nbformat": 4,
 "nbformat_minor": 5
}
