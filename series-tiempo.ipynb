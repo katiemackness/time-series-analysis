{
 "cells": [
  {
   "cell_type": "markdown",
   "id": "3e77aeee",
   "metadata": {},
   "source": [
    "# Series de Tiempo\n",
    "07-04-2025 <br>\n",
    "Katlyn Goeujon-Mackness"
   ]
  },
  {
   "cell_type": "markdown",
   "id": "5117ac6f",
   "metadata": {},
   "source": []
  }
 ],
 "metadata": {
  "language_info": {
   "name": "python"
  }
 },
 "nbformat": 4,
 "nbformat_minor": 5
}
