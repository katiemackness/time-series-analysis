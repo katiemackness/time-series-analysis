{
 "cells": [
  {
   "cell_type": "markdown",
   "id": "afe2533e",
   "metadata": {},
   "source": [
    "# Crecimiento Económico y Sostenibilidad\n",
    "Katlyn Goeujon-Mackness <br>\n",
    "05/05/2025"
   ]
  },
  {
   "cell_type": "markdown",
   "id": "0be3d209",
   "metadata": {},
   "source": [
    "## Introducción\n",
    "En las últimas décadas, el crecimiento económico ha sido un indicador clave del progreso global. Sin embargo, este crecimiento no siempre ha estado alineado con la sostenibilidad ambiental. La creciente emisión de carbono y el limitado uso de energías renovables en muchas regiones generan preocupaciones sobre el impacto de la actividad económica en el futuro del planeta. <br><br>\n",
    "\n",
    "A través de visualizaciones interactivas y análisis detallado, este estudio buscará responder preguntas fundamentales: ¿Las economías más prósperas son también las más sostenibles? ¿Existen regiones que logren un equilibrio entre crecimiento y protección ambiental? Los hallazgos obtenidos podrán servir como base para recomendaciones de políticas que fomenten un desarrollo económico más responsable y sostenible.\n",
    "\n",
    "### Objetivo\n",
    "En este análisis, exploraremos la relación entre el PIB, las emisiones de carbono y el uso de energía renovable, utilizando datos de las Naciones Unidas.\n",
    "\n",
    "### Teoría\n",
    "Aplicaremos principios de visualización para crear gráficos claros y comprensibles, basándonos en los enfoques de Gestalt, Tufte y Holmes. Estos métodos permiten estructurar los datos de manera intuitiva, eliminar elementos innecesarios para destacar lo esencial y presentar la información como una historia visual atractiva.\n",
    "\n",
    "### Los Datos\n",
    "Se une tres conjuntos de datos para este análisis.\n",
    "1. GDP, Annual Rate of Growth Per Capita at constant 2015 Prices - US Dollars\n",
    "2. Carbon dioxide (CO2) Emissions without Land Use, Land-Use Change and Forestry (LULUCF), in kilotonne CO2 equivalent\n",
    "3. Renewable energy cosumption (% of total final energy comsumption)"
   ]
  },
  {
   "cell_type": "markdown",
   "id": "f70b260e",
   "metadata": {},
   "source": [
    "## Selección de datos"
   ]
  },
  {
   "cell_type": "code",
   "execution_count": 1,
   "id": "8ee8110d",
   "metadata": {},
   "outputs": [],
   "source": [
    "# Importar librerías\n",
    "import pandas as pd\n",
    "import matplotlib.pyplot as plt\n",
    "import seaborn as sns"
   ]
  },
  {
   "cell_type": "code",
   "execution_count": 35,
   "id": "593233ee",
   "metadata": {},
   "outputs": [],
   "source": [
    "# Cargar conjuntos de datos con manejo de errores\n",
    "gdp_df = pd.read_csv(\"data/gdp.csv\")\n"
   ]
  },
  {
   "cell_type": "code",
   "execution_count": 3,
   "id": "54326c2a",
   "metadata": {},
   "outputs": [],
   "source": [
    "emissions_df = pd.read_csv(\"data/emissions.csv\")\n"
   ]
  },
  {
   "cell_type": "code",
   "execution_count": 18,
   "id": "763386e6",
   "metadata": {},
   "outputs": [],
   "source": [
    "renewable_df = pd.read_csv(\"data/renewable_energy.csv\", encoding='ISO-8859-1')"
   ]
  },
  {
   "cell_type": "markdown",
   "id": "b27fec5d",
   "metadata": {},
   "source": [
    "## Preprocesamiento"
   ]
  },
  {
   "cell_type": "markdown",
   "id": "24aabaf6",
   "metadata": {},
   "source": [
    "### GDP/PIB"
   ]
  },
  {
   "cell_type": "code",
   "execution_count": 36,
   "id": "11a61fbc",
   "metadata": {},
   "outputs": [
    {
     "data": {
      "text/html": [
       "<div>\n",
       "<style scoped>\n",
       "    .dataframe tbody tr th:only-of-type {\n",
       "        vertical-align: middle;\n",
       "    }\n",
       "\n",
       "    .dataframe tbody tr th {\n",
       "        vertical-align: top;\n",
       "    }\n",
       "\n",
       "    .dataframe thead th {\n",
       "        text-align: right;\n",
       "    }\n",
       "</style>\n",
       "<table border=\"1\" class=\"dataframe\">\n",
       "  <thead>\n",
       "    <tr style=\"text-align: right;\">\n",
       "      <th></th>\n",
       "      <th>Country/Area</th>\n",
       "      <th>Year</th>\n",
       "      <th>Unit</th>\n",
       "      <th>GDP, Annual Rate of Growth Per Capita at constant 2015 prices - US Dollars</th>\n",
       "    </tr>\n",
       "  </thead>\n",
       "  <tbody>\n",
       "    <tr>\n",
       "      <th>0</th>\n",
       "      <td>Afghanistan</td>\n",
       "      <td>1970</td>\n",
       "      <td>...</td>\n",
       "      <td>...</td>\n",
       "    </tr>\n",
       "    <tr>\n",
       "      <th>1</th>\n",
       "      <td>Afghanistan</td>\n",
       "      <td>1971</td>\n",
       "      <td>Percentage</td>\n",
       "      <td>-2.6683596412266284</td>\n",
       "    </tr>\n",
       "    <tr>\n",
       "      <th>2</th>\n",
       "      <td>Afghanistan</td>\n",
       "      <td>1972</td>\n",
       "      <td>Percentage</td>\n",
       "      <td>-18.41845309336326</td>\n",
       "    </tr>\n",
       "    <tr>\n",
       "      <th>3</th>\n",
       "      <td>Afghanistan</td>\n",
       "      <td>1973</td>\n",
       "      <td>Percentage</td>\n",
       "      <td>0.32046266698398135</td>\n",
       "    </tr>\n",
       "    <tr>\n",
       "      <th>4</th>\n",
       "      <td>Afghanistan</td>\n",
       "      <td>1974</td>\n",
       "      <td>Percentage</td>\n",
       "      <td>2.821770388466028</td>\n",
       "    </tr>\n",
       "  </tbody>\n",
       "</table>\n",
       "</div>"
      ],
      "text/plain": [
       "  Country/Area  Year        Unit  \\\n",
       "0  Afghanistan  1970         ...   \n",
       "1  Afghanistan  1971  Percentage   \n",
       "2  Afghanistan  1972  Percentage   \n",
       "3  Afghanistan  1973  Percentage   \n",
       "4  Afghanistan  1974  Percentage   \n",
       "\n",
       "  GDP, Annual Rate of Growth Per Capita at constant 2015 prices - US Dollars  \n",
       "0                                                ...                          \n",
       "1                                -2.6683596412266284                          \n",
       "2                                 -18.41845309336326                          \n",
       "3                                0.32046266698398135                          \n",
       "4                                  2.821770388466028                          "
      ]
     },
     "execution_count": 36,
     "metadata": {},
     "output_type": "execute_result"
    }
   ],
   "source": [
    "gdp_df.head()"
   ]
  },
  {
   "cell_type": "code",
   "execution_count": 7,
   "id": "e147910b",
   "metadata": {},
   "outputs": [
    {
     "name": "stdout",
     "output_type": "stream",
     "text": [
      "<class 'pandas.core.frame.DataFrame'>\n",
      "RangeIndex: 12474 entries, 0 to 12473\n",
      "Data columns (total 4 columns):\n",
      " #   Column                                                                      Non-Null Count  Dtype \n",
      "---  ------                                                                      --------------  ----- \n",
      " 0   Country/Area                                                                12474 non-null  object\n",
      " 1   Year                                                                        12474 non-null  int64 \n",
      " 2   Unit                                                                        12474 non-null  object\n",
      " 3   GDP, Annual Rate of Growth Per Capita at constant 2015 prices - US Dollars  12474 non-null  object\n",
      "dtypes: int64(1), object(3)\n",
      "memory usage: 389.9+ KB\n"
     ]
    }
   ],
   "source": [
    "gdp_df.info()"
   ]
  },
  {
   "cell_type": "code",
   "execution_count": 8,
   "id": "424f0dee",
   "metadata": {},
   "outputs": [
    {
     "name": "stdout",
     "output_type": "stream",
     "text": [
      "['...' 'Percentage']\n"
     ]
    }
   ],
   "source": [
    "# Busca valores unicos de la columna \"Unit\"\n",
    "unique_units = gdp_df['Unit'].unique()\n",
    "print(unique_units)"
   ]
  },
  {
   "cell_type": "code",
   "execution_count": 37,
   "id": "10da30df",
   "metadata": {},
   "outputs": [],
   "source": [
    "# Elimina columnas no necesarias \n",
    "gdp_df.drop(columns=['Unit'], inplace=True)\n",
    "\n",
    "# Cambiar nombre de columna\n",
    "gdp_df.rename(columns={\"GDP, Annual Rate of Growth Per Capita at constant 2015 prices - US Dollars\": \"Value\", \n",
    "                       \"Country/Area\": \"Country\"}, inplace=True)\n",
    "\n",
    "# Cambiar el tipo a tipo númerico y cambiar valores irregulares\n",
    "gdp_df['Value'] = gdp_df['Value'].replace('...', None).astype(float)\n",
    "\n",
    "# Manejo de valores nulos\n",
    "gdp_df.dropna(inplace=True)"
   ]
  },
  {
   "cell_type": "code",
   "execution_count": 38,
   "id": "15081fb3",
   "metadata": {},
   "outputs": [
    {
     "name": "stdout",
     "output_type": "stream",
     "text": [
      "<class 'pandas.core.frame.DataFrame'>\n",
      "Index: 11273 entries, 1 to 12473\n",
      "Data columns (total 3 columns):\n",
      " #   Column   Non-Null Count  Dtype  \n",
      "---  ------   --------------  -----  \n",
      " 0   Country  11273 non-null  object \n",
      " 1   Year     11273 non-null  int64  \n",
      " 2   Value    11273 non-null  float64\n",
      "dtypes: float64(1), int64(1), object(1)\n",
      "memory usage: 352.3+ KB\n"
     ]
    }
   ],
   "source": [
    "gdp_df.info()"
   ]
  },
  {
   "cell_type": "code",
   "execution_count": 39,
   "id": "55178ae2",
   "metadata": {},
   "outputs": [
    {
     "data": {
      "text/html": [
       "<div>\n",
       "<style scoped>\n",
       "    .dataframe tbody tr th:only-of-type {\n",
       "        vertical-align: middle;\n",
       "    }\n",
       "\n",
       "    .dataframe tbody tr th {\n",
       "        vertical-align: top;\n",
       "    }\n",
       "\n",
       "    .dataframe thead th {\n",
       "        text-align: right;\n",
       "    }\n",
       "</style>\n",
       "<table border=\"1\" class=\"dataframe\">\n",
       "  <thead>\n",
       "    <tr style=\"text-align: right;\">\n",
       "      <th></th>\n",
       "      <th>Country</th>\n",
       "      <th>Year</th>\n",
       "      <th>Value</th>\n",
       "    </tr>\n",
       "  </thead>\n",
       "  <tbody>\n",
       "    <tr>\n",
       "      <th>1</th>\n",
       "      <td>Afghanistan</td>\n",
       "      <td>1971</td>\n",
       "      <td>-2.668360</td>\n",
       "    </tr>\n",
       "    <tr>\n",
       "      <th>2</th>\n",
       "      <td>Afghanistan</td>\n",
       "      <td>1972</td>\n",
       "      <td>-18.418453</td>\n",
       "    </tr>\n",
       "    <tr>\n",
       "      <th>3</th>\n",
       "      <td>Afghanistan</td>\n",
       "      <td>1973</td>\n",
       "      <td>0.320463</td>\n",
       "    </tr>\n",
       "    <tr>\n",
       "      <th>4</th>\n",
       "      <td>Afghanistan</td>\n",
       "      <td>1974</td>\n",
       "      <td>2.821770</td>\n",
       "    </tr>\n",
       "    <tr>\n",
       "      <th>5</th>\n",
       "      <td>Afghanistan</td>\n",
       "      <td>1975</td>\n",
       "      <td>3.670857</td>\n",
       "    </tr>\n",
       "  </tbody>\n",
       "</table>\n",
       "</div>"
      ],
      "text/plain": [
       "       Country  Year      Value\n",
       "1  Afghanistan  1971  -2.668360\n",
       "2  Afghanistan  1972 -18.418453\n",
       "3  Afghanistan  1973   0.320463\n",
       "4  Afghanistan  1974   2.821770\n",
       "5  Afghanistan  1975   3.670857"
      ]
     },
     "execution_count": 39,
     "metadata": {},
     "output_type": "execute_result"
    }
   ],
   "source": [
    "gdp_df.head()"
   ]
  },
  {
   "cell_type": "markdown",
   "id": "1af7846a",
   "metadata": {},
   "source": [
    "### Emisiones"
   ]
  },
  {
   "cell_type": "code",
   "execution_count": 12,
   "id": "8a4bb70f",
   "metadata": {},
   "outputs": [
    {
     "data": {
      "text/html": [
       "<div>\n",
       "<style scoped>\n",
       "    .dataframe tbody tr th:only-of-type {\n",
       "        vertical-align: middle;\n",
       "    }\n",
       "\n",
       "    .dataframe tbody tr th {\n",
       "        vertical-align: top;\n",
       "    }\n",
       "\n",
       "    .dataframe thead th {\n",
       "        text-align: right;\n",
       "    }\n",
       "</style>\n",
       "<table border=\"1\" class=\"dataframe\">\n",
       "  <thead>\n",
       "    <tr style=\"text-align: right;\">\n",
       "      <th></th>\n",
       "      <th>Country or Area</th>\n",
       "      <th>Year</th>\n",
       "      <th>Value</th>\n",
       "    </tr>\n",
       "  </thead>\n",
       "  <tbody>\n",
       "    <tr>\n",
       "      <th>0</th>\n",
       "      <td>Australia</td>\n",
       "      <td>2020</td>\n",
       "      <td>400333.466600</td>\n",
       "    </tr>\n",
       "    <tr>\n",
       "      <th>1</th>\n",
       "      <td>Australia</td>\n",
       "      <td>2019</td>\n",
       "      <td>416761.933416</td>\n",
       "    </tr>\n",
       "    <tr>\n",
       "      <th>2</th>\n",
       "      <td>Australia</td>\n",
       "      <td>2018</td>\n",
       "      <td>416283.827446</td>\n",
       "    </tr>\n",
       "    <tr>\n",
       "      <th>3</th>\n",
       "      <td>Australia</td>\n",
       "      <td>2017</td>\n",
       "      <td>414358.311524</td>\n",
       "    </tr>\n",
       "    <tr>\n",
       "      <th>4</th>\n",
       "      <td>Australia</td>\n",
       "      <td>2016</td>\n",
       "      <td>411264.287715</td>\n",
       "    </tr>\n",
       "  </tbody>\n",
       "</table>\n",
       "</div>"
      ],
      "text/plain": [
       "  Country or Area  Year          Value\n",
       "0       Australia  2020  400333.466600\n",
       "1       Australia  2019  416761.933416\n",
       "2       Australia  2018  416283.827446\n",
       "3       Australia  2017  414358.311524\n",
       "4       Australia  2016  411264.287715"
      ]
     },
     "execution_count": 12,
     "metadata": {},
     "output_type": "execute_result"
    }
   ],
   "source": [
    "emissions_df.head()"
   ]
  },
  {
   "cell_type": "code",
   "execution_count": 30,
   "id": "5fcab5cd",
   "metadata": {},
   "outputs": [],
   "source": [
    "# Cambiar nombre de columna\n",
    "emissions_df.rename(columns={\"Country or Area\": \"Country\"}, inplace=True)"
   ]
  },
  {
   "cell_type": "code",
   "execution_count": 31,
   "id": "b2a1bcb0",
   "metadata": {},
   "outputs": [
    {
     "name": "stdout",
     "output_type": "stream",
     "text": [
      "<class 'pandas.core.frame.DataFrame'>\n",
      "RangeIndex: 1375 entries, 0 to 1374\n",
      "Data columns (total 3 columns):\n",
      " #   Column   Non-Null Count  Dtype  \n",
      "---  ------   --------------  -----  \n",
      " 0   Country  1375 non-null   object \n",
      " 1   Year     1375 non-null   int64  \n",
      " 2   Value    1375 non-null   float64\n",
      "dtypes: float64(1), int64(1), object(1)\n",
      "memory usage: 32.4+ KB\n"
     ]
    }
   ],
   "source": [
    "emissions_df.info()"
   ]
  },
  {
   "cell_type": "markdown",
   "id": "9bb08db7",
   "metadata": {},
   "source": [
    "### Energía Renovable"
   ]
  },
  {
   "cell_type": "code",
   "execution_count": 14,
   "id": "bcae722e",
   "metadata": {},
   "outputs": [
    {
     "data": {
      "text/html": [
       "<div>\n",
       "<style scoped>\n",
       "    .dataframe tbody tr th:only-of-type {\n",
       "        vertical-align: middle;\n",
       "    }\n",
       "\n",
       "    .dataframe tbody tr th {\n",
       "        vertical-align: top;\n",
       "    }\n",
       "\n",
       "    .dataframe thead th {\n",
       "        text-align: right;\n",
       "    }\n",
       "</style>\n",
       "<table border=\"1\" class=\"dataframe\">\n",
       "  <thead>\n",
       "    <tr style=\"text-align: right;\">\n",
       "      <th></th>\n",
       "      <th>Series Name</th>\n",
       "      <th>Series Code</th>\n",
       "      <th>Country Name</th>\n",
       "      <th>Country Code</th>\n",
       "      <th>1960 [YR1960]</th>\n",
       "      <th>1961 [YR1961]</th>\n",
       "      <th>1962 [YR1962]</th>\n",
       "      <th>1963 [YR1963]</th>\n",
       "      <th>1964 [YR1964]</th>\n",
       "      <th>1965 [YR1965]</th>\n",
       "      <th>...</th>\n",
       "      <th>2015 [YR2015]</th>\n",
       "      <th>2016 [YR2016]</th>\n",
       "      <th>2017 [YR2017]</th>\n",
       "      <th>2018 [YR2018]</th>\n",
       "      <th>2019 [YR2019]</th>\n",
       "      <th>2020 [YR2020]</th>\n",
       "      <th>2021 [YR2021]</th>\n",
       "      <th>2022 [YR2022]</th>\n",
       "      <th>2023 [YR2023]</th>\n",
       "      <th>2024 [YR2024]</th>\n",
       "    </tr>\n",
       "  </thead>\n",
       "  <tbody>\n",
       "    <tr>\n",
       "      <th>0</th>\n",
       "      <td>Renewable energy consumption (% of total final...</td>\n",
       "      <td>EG.FEC.RNEW.ZS</td>\n",
       "      <td>Afghanistan</td>\n",
       "      <td>AFG</td>\n",
       "      <td>..</td>\n",
       "      <td>..</td>\n",
       "      <td>..</td>\n",
       "      <td>..</td>\n",
       "      <td>..</td>\n",
       "      <td>..</td>\n",
       "      <td>...</td>\n",
       "      <td>17.7</td>\n",
       "      <td>20.2</td>\n",
       "      <td>19.5</td>\n",
       "      <td>18.3</td>\n",
       "      <td>18.9</td>\n",
       "      <td>18.2</td>\n",
       "      <td>20</td>\n",
       "      <td>20</td>\n",
       "      <td>..</td>\n",
       "      <td>..</td>\n",
       "    </tr>\n",
       "    <tr>\n",
       "      <th>1</th>\n",
       "      <td>Renewable energy consumption (% of total final...</td>\n",
       "      <td>EG.FEC.RNEW.ZS</td>\n",
       "      <td>Albania</td>\n",
       "      <td>ALB</td>\n",
       "      <td>..</td>\n",
       "      <td>..</td>\n",
       "      <td>..</td>\n",
       "      <td>..</td>\n",
       "      <td>..</td>\n",
       "      <td>..</td>\n",
       "      <td>...</td>\n",
       "      <td>38.5</td>\n",
       "      <td>39.4</td>\n",
       "      <td>36.9</td>\n",
       "      <td>37.8</td>\n",
       "      <td>40.1</td>\n",
       "      <td>44.4</td>\n",
       "      <td>41.9</td>\n",
       "      <td>..</td>\n",
       "      <td>..</td>\n",
       "      <td>..</td>\n",
       "    </tr>\n",
       "    <tr>\n",
       "      <th>2</th>\n",
       "      <td>Renewable energy consumption (% of total final...</td>\n",
       "      <td>EG.FEC.RNEW.ZS</td>\n",
       "      <td>Algeria</td>\n",
       "      <td>DZA</td>\n",
       "      <td>..</td>\n",
       "      <td>..</td>\n",
       "      <td>..</td>\n",
       "      <td>..</td>\n",
       "      <td>..</td>\n",
       "      <td>..</td>\n",
       "      <td>...</td>\n",
       "      <td>0.1</td>\n",
       "      <td>0.1</td>\n",
       "      <td>0.1</td>\n",
       "      <td>0.2</td>\n",
       "      <td>0.2</td>\n",
       "      <td>0.1</td>\n",
       "      <td>0.1</td>\n",
       "      <td>..</td>\n",
       "      <td>..</td>\n",
       "      <td>..</td>\n",
       "    </tr>\n",
       "    <tr>\n",
       "      <th>3</th>\n",
       "      <td>Renewable energy consumption (% of total final...</td>\n",
       "      <td>EG.FEC.RNEW.ZS</td>\n",
       "      <td>American Samoa</td>\n",
       "      <td>ASM</td>\n",
       "      <td>..</td>\n",
       "      <td>..</td>\n",
       "      <td>..</td>\n",
       "      <td>..</td>\n",
       "      <td>..</td>\n",
       "      <td>..</td>\n",
       "      <td>...</td>\n",
       "      <td>0.2</td>\n",
       "      <td>0.2</td>\n",
       "      <td>0.3</td>\n",
       "      <td>0.3</td>\n",
       "      <td>0.4</td>\n",
       "      <td>0.4</td>\n",
       "      <td>0.4</td>\n",
       "      <td>0.4</td>\n",
       "      <td>..</td>\n",
       "      <td>..</td>\n",
       "    </tr>\n",
       "    <tr>\n",
       "      <th>4</th>\n",
       "      <td>Renewable energy consumption (% of total final...</td>\n",
       "      <td>EG.FEC.RNEW.ZS</td>\n",
       "      <td>Andorra</td>\n",
       "      <td>AND</td>\n",
       "      <td>..</td>\n",
       "      <td>..</td>\n",
       "      <td>..</td>\n",
       "      <td>..</td>\n",
       "      <td>..</td>\n",
       "      <td>..</td>\n",
       "      <td>...</td>\n",
       "      <td>19</td>\n",
       "      <td>18.9</td>\n",
       "      <td>18</td>\n",
       "      <td>17.6</td>\n",
       "      <td>17.2</td>\n",
       "      <td>20.9</td>\n",
       "      <td>18.4</td>\n",
       "      <td>18.7</td>\n",
       "      <td>..</td>\n",
       "      <td>..</td>\n",
       "    </tr>\n",
       "  </tbody>\n",
       "</table>\n",
       "<p>5 rows × 69 columns</p>\n",
       "</div>"
      ],
      "text/plain": [
       "                                         Series Name     Series Code  \\\n",
       "0  Renewable energy consumption (% of total final...  EG.FEC.RNEW.ZS   \n",
       "1  Renewable energy consumption (% of total final...  EG.FEC.RNEW.ZS   \n",
       "2  Renewable energy consumption (% of total final...  EG.FEC.RNEW.ZS   \n",
       "3  Renewable energy consumption (% of total final...  EG.FEC.RNEW.ZS   \n",
       "4  Renewable energy consumption (% of total final...  EG.FEC.RNEW.ZS   \n",
       "\n",
       "     Country Name Country Code 1960 [YR1960] 1961 [YR1961] 1962 [YR1962]  \\\n",
       "0     Afghanistan          AFG            ..            ..            ..   \n",
       "1         Albania          ALB            ..            ..            ..   \n",
       "2         Algeria          DZA            ..            ..            ..   \n",
       "3  American Samoa          ASM            ..            ..            ..   \n",
       "4         Andorra          AND            ..            ..            ..   \n",
       "\n",
       "  1963 [YR1963] 1964 [YR1964] 1965 [YR1965]  ... 2015 [YR2015] 2016 [YR2016]  \\\n",
       "0            ..            ..            ..  ...          17.7          20.2   \n",
       "1            ..            ..            ..  ...          38.5          39.4   \n",
       "2            ..            ..            ..  ...           0.1           0.1   \n",
       "3            ..            ..            ..  ...           0.2           0.2   \n",
       "4            ..            ..            ..  ...            19          18.9   \n",
       "\n",
       "  2017 [YR2017] 2018 [YR2018] 2019 [YR2019] 2020 [YR2020] 2021 [YR2021]  \\\n",
       "0          19.5          18.3          18.9          18.2            20   \n",
       "1          36.9          37.8          40.1          44.4          41.9   \n",
       "2           0.1           0.2           0.2           0.1           0.1   \n",
       "3           0.3           0.3           0.4           0.4           0.4   \n",
       "4            18          17.6          17.2          20.9          18.4   \n",
       "\n",
       "  2022 [YR2022] 2023 [YR2023] 2024 [YR2024]  \n",
       "0            20            ..            ..  \n",
       "1            ..            ..            ..  \n",
       "2            ..            ..            ..  \n",
       "3           0.4            ..            ..  \n",
       "4          18.7            ..            ..  \n",
       "\n",
       "[5 rows x 69 columns]"
      ]
     },
     "execution_count": 14,
     "metadata": {},
     "output_type": "execute_result"
    }
   ],
   "source": [
    "renewable_df.head()"
   ]
  },
  {
   "cell_type": "code",
   "execution_count": null,
   "id": "ad91309f",
   "metadata": {},
   "outputs": [],
   "source": [
    "# Drop columns with all NaN or empty values\n",
    "renewable_df.dropna(axis=1, how='all', inplace=True)\n",
    "\n",
    "\n",
    "# Elimina columnas no necesarias\n",
    "renewable_df.drop(columns=['Series Name', 'Series Code', 'Country Code'], inplace=True)\n",
    "\n",
    "renewable_df.info()"
   ]
  },
  {
   "cell_type": "code",
   "execution_count": 21,
   "id": "1b3dd216",
   "metadata": {},
   "outputs": [
    {
     "data": {
      "text/html": [
       "<div>\n",
       "<style scoped>\n",
       "    .dataframe tbody tr th:only-of-type {\n",
       "        vertical-align: middle;\n",
       "    }\n",
       "\n",
       "    .dataframe tbody tr th {\n",
       "        vertical-align: top;\n",
       "    }\n",
       "\n",
       "    .dataframe thead th {\n",
       "        text-align: right;\n",
       "    }\n",
       "</style>\n",
       "<table border=\"1\" class=\"dataframe\">\n",
       "  <thead>\n",
       "    <tr style=\"text-align: right;\">\n",
       "      <th></th>\n",
       "      <th>Country Name</th>\n",
       "      <th>1960</th>\n",
       "      <th>1961</th>\n",
       "      <th>1962</th>\n",
       "      <th>1963</th>\n",
       "      <th>1964</th>\n",
       "      <th>1965</th>\n",
       "      <th>1966</th>\n",
       "      <th>1967</th>\n",
       "      <th>1968</th>\n",
       "      <th>...</th>\n",
       "      <th>2015</th>\n",
       "      <th>2016</th>\n",
       "      <th>2017</th>\n",
       "      <th>2018</th>\n",
       "      <th>2019</th>\n",
       "      <th>2020</th>\n",
       "      <th>2021</th>\n",
       "      <th>2022</th>\n",
       "      <th>2023</th>\n",
       "      <th>2024</th>\n",
       "    </tr>\n",
       "  </thead>\n",
       "  <tbody>\n",
       "    <tr>\n",
       "      <th>0</th>\n",
       "      <td>Afghanistan</td>\n",
       "      <td>..</td>\n",
       "      <td>..</td>\n",
       "      <td>..</td>\n",
       "      <td>..</td>\n",
       "      <td>..</td>\n",
       "      <td>..</td>\n",
       "      <td>..</td>\n",
       "      <td>..</td>\n",
       "      <td>..</td>\n",
       "      <td>...</td>\n",
       "      <td>17.7</td>\n",
       "      <td>20.2</td>\n",
       "      <td>19.5</td>\n",
       "      <td>18.3</td>\n",
       "      <td>18.9</td>\n",
       "      <td>18.2</td>\n",
       "      <td>20</td>\n",
       "      <td>20</td>\n",
       "      <td>..</td>\n",
       "      <td>..</td>\n",
       "    </tr>\n",
       "    <tr>\n",
       "      <th>1</th>\n",
       "      <td>Albania</td>\n",
       "      <td>..</td>\n",
       "      <td>..</td>\n",
       "      <td>..</td>\n",
       "      <td>..</td>\n",
       "      <td>..</td>\n",
       "      <td>..</td>\n",
       "      <td>..</td>\n",
       "      <td>..</td>\n",
       "      <td>..</td>\n",
       "      <td>...</td>\n",
       "      <td>38.5</td>\n",
       "      <td>39.4</td>\n",
       "      <td>36.9</td>\n",
       "      <td>37.8</td>\n",
       "      <td>40.1</td>\n",
       "      <td>44.4</td>\n",
       "      <td>41.9</td>\n",
       "      <td>..</td>\n",
       "      <td>..</td>\n",
       "      <td>..</td>\n",
       "    </tr>\n",
       "    <tr>\n",
       "      <th>2</th>\n",
       "      <td>Algeria</td>\n",
       "      <td>..</td>\n",
       "      <td>..</td>\n",
       "      <td>..</td>\n",
       "      <td>..</td>\n",
       "      <td>..</td>\n",
       "      <td>..</td>\n",
       "      <td>..</td>\n",
       "      <td>..</td>\n",
       "      <td>..</td>\n",
       "      <td>...</td>\n",
       "      <td>0.1</td>\n",
       "      <td>0.1</td>\n",
       "      <td>0.1</td>\n",
       "      <td>0.2</td>\n",
       "      <td>0.2</td>\n",
       "      <td>0.1</td>\n",
       "      <td>0.1</td>\n",
       "      <td>..</td>\n",
       "      <td>..</td>\n",
       "      <td>..</td>\n",
       "    </tr>\n",
       "    <tr>\n",
       "      <th>3</th>\n",
       "      <td>American Samoa</td>\n",
       "      <td>..</td>\n",
       "      <td>..</td>\n",
       "      <td>..</td>\n",
       "      <td>..</td>\n",
       "      <td>..</td>\n",
       "      <td>..</td>\n",
       "      <td>..</td>\n",
       "      <td>..</td>\n",
       "      <td>..</td>\n",
       "      <td>...</td>\n",
       "      <td>0.2</td>\n",
       "      <td>0.2</td>\n",
       "      <td>0.3</td>\n",
       "      <td>0.3</td>\n",
       "      <td>0.4</td>\n",
       "      <td>0.4</td>\n",
       "      <td>0.4</td>\n",
       "      <td>0.4</td>\n",
       "      <td>..</td>\n",
       "      <td>..</td>\n",
       "    </tr>\n",
       "    <tr>\n",
       "      <th>4</th>\n",
       "      <td>Andorra</td>\n",
       "      <td>..</td>\n",
       "      <td>..</td>\n",
       "      <td>..</td>\n",
       "      <td>..</td>\n",
       "      <td>..</td>\n",
       "      <td>..</td>\n",
       "      <td>..</td>\n",
       "      <td>..</td>\n",
       "      <td>..</td>\n",
       "      <td>...</td>\n",
       "      <td>19</td>\n",
       "      <td>18.9</td>\n",
       "      <td>18</td>\n",
       "      <td>17.6</td>\n",
       "      <td>17.2</td>\n",
       "      <td>20.9</td>\n",
       "      <td>18.4</td>\n",
       "      <td>18.7</td>\n",
       "      <td>..</td>\n",
       "      <td>..</td>\n",
       "    </tr>\n",
       "  </tbody>\n",
       "</table>\n",
       "<p>5 rows × 66 columns</p>\n",
       "</div>"
      ],
      "text/plain": [
       "     Country Name 1960 1961 1962 1963 1964 1965 1966 1967 1968  ...  2015  \\\n",
       "0     Afghanistan   ..   ..   ..   ..   ..   ..   ..   ..   ..  ...  17.7   \n",
       "1         Albania   ..   ..   ..   ..   ..   ..   ..   ..   ..  ...  38.5   \n",
       "2         Algeria   ..   ..   ..   ..   ..   ..   ..   ..   ..  ...   0.1   \n",
       "3  American Samoa   ..   ..   ..   ..   ..   ..   ..   ..   ..  ...   0.2   \n",
       "4         Andorra   ..   ..   ..   ..   ..   ..   ..   ..   ..  ...    19   \n",
       "\n",
       "   2016  2017  2018  2019  2020  2021  2022 2023 2024  \n",
       "0  20.2  19.5  18.3  18.9  18.2    20    20   ..   ..  \n",
       "1  39.4  36.9  37.8  40.1  44.4  41.9    ..   ..   ..  \n",
       "2   0.1   0.1   0.2   0.2   0.1   0.1    ..   ..   ..  \n",
       "3   0.2   0.3   0.3   0.4   0.4   0.4   0.4   ..   ..  \n",
       "4  18.9    18  17.6  17.2  20.9  18.4  18.7   ..   ..  \n",
       "\n",
       "[5 rows x 66 columns]"
      ]
     },
     "execution_count": 21,
     "metadata": {},
     "output_type": "execute_result"
    }
   ],
   "source": [
    "# Cambiar los nombres de los columnas de los años\n",
    "renewable_df.rename(columns=lambda x: x[:4] if renewable_df.columns.get_loc(x) in range(1, 66) else x, inplace=True)\n",
    "renewable_df.head()"
   ]
  },
  {
   "cell_type": "code",
   "execution_count": 23,
   "id": "e78bd342",
   "metadata": {},
   "outputs": [
    {
     "data": {
      "text/html": [
       "<div>\n",
       "<style scoped>\n",
       "    .dataframe tbody tr th:only-of-type {\n",
       "        vertical-align: middle;\n",
       "    }\n",
       "\n",
       "    .dataframe tbody tr th {\n",
       "        vertical-align: top;\n",
       "    }\n",
       "\n",
       "    .dataframe thead th {\n",
       "        text-align: right;\n",
       "    }\n",
       "</style>\n",
       "<table border=\"1\" class=\"dataframe\">\n",
       "  <thead>\n",
       "    <tr style=\"text-align: right;\">\n",
       "      <th></th>\n",
       "      <th>Country Name</th>\n",
       "      <th>Year</th>\n",
       "      <th>Value</th>\n",
       "    </tr>\n",
       "  </thead>\n",
       "  <tbody>\n",
       "    <tr>\n",
       "      <th>0</th>\n",
       "      <td>Afghanistan</td>\n",
       "      <td>1960</td>\n",
       "      <td>..</td>\n",
       "    </tr>\n",
       "    <tr>\n",
       "      <th>1</th>\n",
       "      <td>Albania</td>\n",
       "      <td>1960</td>\n",
       "      <td>..</td>\n",
       "    </tr>\n",
       "    <tr>\n",
       "      <th>2</th>\n",
       "      <td>Algeria</td>\n",
       "      <td>1960</td>\n",
       "      <td>..</td>\n",
       "    </tr>\n",
       "    <tr>\n",
       "      <th>3</th>\n",
       "      <td>American Samoa</td>\n",
       "      <td>1960</td>\n",
       "      <td>..</td>\n",
       "    </tr>\n",
       "    <tr>\n",
       "      <th>4</th>\n",
       "      <td>Andorra</td>\n",
       "      <td>1960</td>\n",
       "      <td>..</td>\n",
       "    </tr>\n",
       "  </tbody>\n",
       "</table>\n",
       "</div>"
      ],
      "text/plain": [
       "     Country Name  Year Value\n",
       "0     Afghanistan  1960    ..\n",
       "1         Albania  1960    ..\n",
       "2         Algeria  1960    ..\n",
       "3  American Samoa  1960    ..\n",
       "4         Andorra  1960    .."
      ]
     },
     "execution_count": 23,
     "metadata": {},
     "output_type": "execute_result"
    }
   ],
   "source": [
    "# Reestructurar los datos\n",
    "renewable_df = renewable_df.melt(id_vars=[\"Country Name\"], var_name=\"Year\", value_name=\"Value\")\n",
    "renewable_df.head()"
   ]
  },
  {
   "cell_type": "code",
   "execution_count": 41,
   "id": "1b67b854",
   "metadata": {},
   "outputs": [],
   "source": [
    "renewable_df['Value'] = pd.to_numeric(renewable_df['Value'], errors='coerce')"
   ]
  },
  {
   "cell_type": "code",
   "execution_count": 42,
   "id": "310c89e7",
   "metadata": {},
   "outputs": [
    {
     "name": "stdout",
     "output_type": "stream",
     "text": [
      "<class 'pandas.core.frame.DataFrame'>\n",
      "RangeIndex: 17745 entries, 0 to 17744\n",
      "Data columns (total 3 columns):\n",
      " #   Column        Non-Null Count  Dtype  \n",
      "---  ------        --------------  -----  \n",
      " 0   Country Name  17420 non-null  object \n",
      " 1   Year          17745 non-null  object \n",
      " 2   Value         8234 non-null   float64\n",
      "dtypes: float64(1), object(2)\n",
      "memory usage: 416.0+ KB\n"
     ]
    }
   ],
   "source": [
    "renewable_df.info()"
   ]
  },
  {
   "cell_type": "code",
   "execution_count": null,
   "id": "b07ba7ac",
   "metadata": {},
   "outputs": [],
   "source": [
    "# Limpia los datos eliminando valores nulos y asegurando formatos uniformes."
   ]
  },
  {
   "cell_type": "code",
   "execution_count": null,
   "id": "1c354512",
   "metadata": {},
   "outputs": [],
   "source": [
    "# Fusiona los conjuntos de datos por país y año para facilitar el análisis.\n",
    "# Fusionar datos por país y año\n",
    "df = gdp_df.merge(carbon_df, on=['Country', 'Year']).merge(renewable_df, on=['Country', 'Year'])\n",
    "\n"
   ]
  },
  {
   "cell_type": "markdown",
   "id": "cfd32e71",
   "metadata": {},
   "source": [
    "## Análisis exploratorio"
   ]
  },
  {
   "cell_type": "code",
   "execution_count": null,
   "id": "fdb7c92e",
   "metadata": {},
   "outputs": [],
   "source": [
    "# Calcula estadísticas descriptivas (media, mediana, tendencias)."
   ]
  },
  {
   "cell_type": "code",
   "execution_count": null,
   "id": "4d790179",
   "metadata": {},
   "outputs": [],
   "source": [
    "# Identifica correlaciones entre crecimiento del PIB y sostenibilidad."
   ]
  },
  {
   "cell_type": "markdown",
   "id": "8c92023b",
   "metadata": {},
   "source": [
    "## Visualización de Datos"
   ]
  },
  {
   "cell_type": "code",
   "execution_count": null,
   "id": "5d59b3a4",
   "metadata": {},
   "outputs": [],
   "source": [
    "# Gráficos de dispersión para ver la relación entre PIB y emisiones de CO₂.\n",
    "# \n",
    "# # Gráfico de dispersión PIB vs. Emisiones de carbono\n",
    "plt.figure(figsize=(10, 6))\n",
    "sns.scatterplot(x=df['GDP Growth'], y=df['Carbon Emissions'], hue=df['Country'])\n",
    "plt.title(\"Crecimiento Económico vs. Emisiones de Carbono\")\n",
    "plt.xlabel(\"Crecimiento del PIB (%)\")\n",
    "plt.ylabel(\"Emisiones de carbono per cápita\")\n",
    "plt.show()\n"
   ]
  },
  {
   "cell_type": "code",
   "execution_count": null,
   "id": "6f3c221c",
   "metadata": {},
   "outputs": [],
   "source": [
    "# Gráficos de barras para comparar el uso de energía renovable entre regiones.\n",
    "# \n",
    "# # Agregación por región\n",
    "region_data = df.groupby(['Region']).mean()\n",
    "\n",
    "# Gráfico de barras Uso de Energía Renovable\n",
    "plt.figure(figsize=(10, 5))\n",
    "sns.barplot(x=region_data.index, y=region_data['Renewable Energy'])\n",
    "plt.title(\"Uso de Energía Renovable por Región\")\n",
    "plt.xlabel(\"Región\")\n",
    "plt.ylabel(\"Energía Renovable (%)\")\n",
    "plt.xticks(rotation=45)\n",
    "plt.show()\n"
   ]
  },
  {
   "cell_type": "code",
   "execution_count": null,
   "id": "fe42abd7",
   "metadata": {},
   "outputs": [],
   "source": [
    "# Gráficos de líneas para analizar tendencias a lo largo del tiempo."
   ]
  },
  {
   "cell_type": "markdown",
   "id": "ee4b4cbf",
   "metadata": {},
   "source": [
    "## Análisis Comparativo"
   ]
  },
  {
   "cell_type": "markdown",
   "id": "f53c58db",
   "metadata": {},
   "source": [
    "## Interpretación y conclusiones"
   ]
  },
  {
   "cell_type": "markdown",
   "id": "978c550d",
   "metadata": {},
   "source": [
    "¿Las economías con mayor crecimiento tienen peores indicadores de sostenibilidad?\n",
    "\n",
    "¿Existen países con crecimiento económico y bajas emisiones de CO₂?\n",
    "\n",
    "¿Qué patrones o excepciones se pueden identificar?"
   ]
  },
  {
   "cell_type": "code",
   "execution_count": null,
   "id": "b249a4cd",
   "metadata": {},
   "outputs": [],
   "source": [
    "# Conclusiones y recomendaciones\n",
    "# Hallazgos clave: Explicación de las tendencias observadas.\n",
    "\n",
    "# Técnicas de visualización utilizadas: Cómo se aplicaron Gestalt, Tufte y Holmes.\n",
    "\n",
    "# Recomendaciones de política: Sugerencias para un crecimiento económico más sostenible."
   ]
  },
  {
   "cell_type": "markdown",
   "id": "08d7f92f",
   "metadata": {},
   "source": []
  }
 ],
 "metadata": {
  "kernelspec": {
   "display_name": "Python 3",
   "language": "python",
   "name": "python3"
  },
  "language_info": {
   "codemirror_mode": {
    "name": "ipython",
    "version": 3
   },
   "file_extension": ".py",
   "mimetype": "text/x-python",
   "name": "python",
   "nbconvert_exporter": "python",
   "pygments_lexer": "ipython3",
   "version": "3.12.1"
  }
 },
 "nbformat": 4,
 "nbformat_minor": 5
}
