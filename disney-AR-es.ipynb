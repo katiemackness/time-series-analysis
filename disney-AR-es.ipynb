{
 "cells": [
  {
   "cell_type": "markdown",
   "id": "baa53f5f",
   "metadata": {},
   "source": [
    "# Modelo AR(p) Disney\n",
    "Katlyn Goeujon-Mackness <br>\n",
    "29/04/2025"
   ]
  },
  {
   "cell_type": "markdown",
   "id": "f83c8c9c",
   "metadata": {},
   "source": [
    "## Introducción\n",
    "### Objetivo\n",
    "Breve descripción del objetivo del análisis.\n",
    "\n",
    "### Modelos AR(p)\n",
    "**El modelo AR(1), o modelo autoregresivo de orden 1**, se utiliza en series de tiempo para predecir el valor actual de una variable basándose en su valor inmediatamente anterior. Es el modelo autoregresivo más básico y se utiliza como base para modelos más complejos, como AR(p) de órdenes superiores.\n",
    "\n",
    "#### Componentes\n",
    "* media constante mu (𝜇)\n",
    "* coeficiente phi (𝜙)\n",
    "* término de error de ruido blanco\n",
    "\n",
    "El modelo es especialmente útil para series temporales estacionarias donde 𝜙 está entre -1 y 1, con dos casos importantes:\n",
    "1. 𝜙 positivo: Con \"Momentum\", genera una correlación positiva y un crecimiento que decae con el tiempo.\n",
    "2. 𝜙 negativo: Con inversión de media, produce alternancias entre subidas y bajadas en las observaciones.\n",
    "\n",
    "### Contexto del Conjunto de Datos\n",
    "Consideraremos la información histórica diaria de precios para la empresa Walt Disney Company (cuya sigla bursátil es “DIS”) contenida en el sitio de Yahoo Finance para el periodo que va del 1 de Enero del 2023 al 31 de Marzo del 2023 usando los modelos auto-regresivos AR(p)."
   ]
  },
  {
   "cell_type": "markdown",
   "id": "a553c636",
   "metadata": {},
   "source": [
    "## Implementación\n",
    "Utilizaremos librerías estadísticas para implementar modelos AR(1) en el análisis de precios de acciones. Veremos cómo ajustar modelos a datos de entrenamiento y realizar predicciones precisas."
   ]
  },
  {
   "cell_type": "code",
   "execution_count": null,
   "id": "45fadeb4",
   "metadata": {},
   "outputs": [],
   "source": [
    "# Importar librerías\n",
    "import yfinance as yf\n",
    "import pandas as pd\n",
    "import numpy as np\n",
    "import matplotlib.pyplot as plt\n",
    "import warnings\n",
    "warnings.filterwarnings('ignore')\n",
    "\n",
    "import statsmodels.api as sm\n",
    "from statsmodels.tsa.stattools import acf\n",
    "from statsmodels.graphics.tsaplots import plot_acf, plot_pacf\n",
    "from statsmodels.tsa.arima.model import ARIMA\n",
    "from statsmodels.tsa.ar_model import AutoReg\n",
    "from statsmodels.stats.diagnostic import acorr_ljungbox\n",
    "\n",
    "from sklearn.metrics import mean_squared_error"
   ]
  },
  {
   "cell_type": "code",
   "execution_count": 5,
   "id": "04c447a1",
   "metadata": {},
   "outputs": [
    {
     "name": "stderr",
     "output_type": "stream",
     "text": [
      "[*********************100%***********************]  1 of 1 completed\n"
     ]
    },
    {
     "data": {
      "text/html": [
       "<div>\n",
       "<style scoped>\n",
       "    .dataframe tbody tr th:only-of-type {\n",
       "        vertical-align: middle;\n",
       "    }\n",
       "\n",
       "    .dataframe tbody tr th {\n",
       "        vertical-align: top;\n",
       "    }\n",
       "\n",
       "    .dataframe thead tr th {\n",
       "        text-align: left;\n",
       "    }\n",
       "\n",
       "    .dataframe thead tr:last-of-type th {\n",
       "        text-align: right;\n",
       "    }\n",
       "</style>\n",
       "<table border=\"1\" class=\"dataframe\">\n",
       "  <thead>\n",
       "    <tr>\n",
       "      <th>Price</th>\n",
       "      <th>Close</th>\n",
       "      <th>High</th>\n",
       "      <th>Low</th>\n",
       "      <th>Open</th>\n",
       "      <th>Volume</th>\n",
       "    </tr>\n",
       "    <tr>\n",
       "      <th>Ticker</th>\n",
       "      <th>DIS</th>\n",
       "      <th>DIS</th>\n",
       "      <th>DIS</th>\n",
       "      <th>DIS</th>\n",
       "      <th>DIS</th>\n",
       "    </tr>\n",
       "    <tr>\n",
       "      <th>Date</th>\n",
       "      <th></th>\n",
       "      <th></th>\n",
       "      <th></th>\n",
       "      <th></th>\n",
       "      <th></th>\n",
       "    </tr>\n",
       "  </thead>\n",
       "  <tbody>\n",
       "    <tr>\n",
       "      <th>2023-01-03</th>\n",
       "      <td>87.88</td>\n",
       "      <td>88.87</td>\n",
       "      <td>86.76</td>\n",
       "      <td>87.89</td>\n",
       "      <td>14997100</td>\n",
       "    </tr>\n",
       "    <tr>\n",
       "      <th>2023-01-04</th>\n",
       "      <td>90.86</td>\n",
       "      <td>91.62</td>\n",
       "      <td>88.27</td>\n",
       "      <td>88.90</td>\n",
       "      <td>14957200</td>\n",
       "    </tr>\n",
       "    <tr>\n",
       "      <th>2023-01-05</th>\n",
       "      <td>90.80</td>\n",
       "      <td>91.35</td>\n",
       "      <td>89.41</td>\n",
       "      <td>90.54</td>\n",
       "      <td>11622600</td>\n",
       "    </tr>\n",
       "    <tr>\n",
       "      <th>2023-01-06</th>\n",
       "      <td>92.77</td>\n",
       "      <td>93.53</td>\n",
       "      <td>90.21</td>\n",
       "      <td>91.53</td>\n",
       "      <td>9828100</td>\n",
       "    </tr>\n",
       "    <tr>\n",
       "      <th>2023-01-09</th>\n",
       "      <td>93.61</td>\n",
       "      <td>94.53</td>\n",
       "      <td>92.31</td>\n",
       "      <td>93.28</td>\n",
       "      <td>11675800</td>\n",
       "    </tr>\n",
       "    <tr>\n",
       "      <th>...</th>\n",
       "      <td>...</td>\n",
       "      <td>...</td>\n",
       "      <td>...</td>\n",
       "      <td>...</td>\n",
       "      <td>...</td>\n",
       "    </tr>\n",
       "    <tr>\n",
       "      <th>2023-03-24</th>\n",
       "      <td>92.93</td>\n",
       "      <td>93.84</td>\n",
       "      <td>91.88</td>\n",
       "      <td>93.65</td>\n",
       "      <td>9534600</td>\n",
       "    </tr>\n",
       "    <tr>\n",
       "      <th>2023-03-27</th>\n",
       "      <td>94.45</td>\n",
       "      <td>94.85</td>\n",
       "      <td>93.23</td>\n",
       "      <td>93.62</td>\n",
       "      <td>7487900</td>\n",
       "    </tr>\n",
       "    <tr>\n",
       "      <th>2023-03-28</th>\n",
       "      <td>93.66</td>\n",
       "      <td>94.83</td>\n",
       "      <td>93.44</td>\n",
       "      <td>94.34</td>\n",
       "      <td>5426100</td>\n",
       "    </tr>\n",
       "    <tr>\n",
       "      <th>2023-03-29</th>\n",
       "      <td>95.69</td>\n",
       "      <td>95.73</td>\n",
       "      <td>94.19</td>\n",
       "      <td>94.91</td>\n",
       "      <td>5889100</td>\n",
       "    </tr>\n",
       "    <tr>\n",
       "      <th>2023-03-30</th>\n",
       "      <td>96.90</td>\n",
       "      <td>97.71</td>\n",
       "      <td>96.48</td>\n",
       "      <td>97.53</td>\n",
       "      <td>7669500</td>\n",
       "    </tr>\n",
       "  </tbody>\n",
       "</table>\n",
       "<p>61 rows × 5 columns</p>\n",
       "</div>"
      ],
      "text/plain": [
       "Price       Close   High    Low   Open    Volume\n",
       "Ticker        DIS    DIS    DIS    DIS       DIS\n",
       "Date                                            \n",
       "2023-01-03  87.88  88.87  86.76  87.89  14997100\n",
       "2023-01-04  90.86  91.62  88.27  88.90  14957200\n",
       "2023-01-05  90.80  91.35  89.41  90.54  11622600\n",
       "2023-01-06  92.77  93.53  90.21  91.53   9828100\n",
       "2023-01-09  93.61  94.53  92.31  93.28  11675800\n",
       "...           ...    ...    ...    ...       ...\n",
       "2023-03-24  92.93  93.84  91.88  93.65   9534600\n",
       "2023-03-27  94.45  94.85  93.23  93.62   7487900\n",
       "2023-03-28  93.66  94.83  93.44  94.34   5426100\n",
       "2023-03-29  95.69  95.73  94.19  94.91   5889100\n",
       "2023-03-30  96.90  97.71  96.48  97.53   7669500\n",
       "\n",
       "[61 rows x 5 columns]"
      ]
     },
     "execution_count": 5,
     "metadata": {},
     "output_type": "execute_result"
    }
   ],
   "source": [
    "# Cargar los datos históricos desde Yahoo Finance\n",
    "disney = yf.download(tickers='dis', start='2023-01-01', end='2023-03-31', rounding=True)\n",
    "disney"
   ]
  },
  {
   "cell_type": "code",
   "execution_count": 6,
   "id": "0d511eeb",
   "metadata": {},
   "outputs": [
    {
     "data": {
      "text/html": [
       "<div>\n",
       "<style scoped>\n",
       "    .dataframe tbody tr th:only-of-type {\n",
       "        vertical-align: middle;\n",
       "    }\n",
       "\n",
       "    .dataframe tbody tr th {\n",
       "        vertical-align: top;\n",
       "    }\n",
       "\n",
       "    .dataframe thead th {\n",
       "        text-align: right;\n",
       "    }\n",
       "</style>\n",
       "<table border=\"1\" class=\"dataframe\">\n",
       "  <thead>\n",
       "    <tr style=\"text-align: right;\">\n",
       "      <th>Ticker</th>\n",
       "      <th>DIS</th>\n",
       "    </tr>\n",
       "    <tr>\n",
       "      <th>Date</th>\n",
       "      <th></th>\n",
       "    </tr>\n",
       "  </thead>\n",
       "  <tbody>\n",
       "    <tr>\n",
       "      <th>2023-01-03</th>\n",
       "      <td>87.88</td>\n",
       "    </tr>\n",
       "    <tr>\n",
       "      <th>2023-01-04</th>\n",
       "      <td>90.86</td>\n",
       "    </tr>\n",
       "    <tr>\n",
       "      <th>2023-01-05</th>\n",
       "      <td>90.80</td>\n",
       "    </tr>\n",
       "    <tr>\n",
       "      <th>2023-01-06</th>\n",
       "      <td>92.77</td>\n",
       "    </tr>\n",
       "    <tr>\n",
       "      <th>2023-01-09</th>\n",
       "      <td>93.61</td>\n",
       "    </tr>\n",
       "    <tr>\n",
       "      <th>...</th>\n",
       "      <td>...</td>\n",
       "    </tr>\n",
       "    <tr>\n",
       "      <th>2023-03-24</th>\n",
       "      <td>92.93</td>\n",
       "    </tr>\n",
       "    <tr>\n",
       "      <th>2023-03-27</th>\n",
       "      <td>94.45</td>\n",
       "    </tr>\n",
       "    <tr>\n",
       "      <th>2023-03-28</th>\n",
       "      <td>93.66</td>\n",
       "    </tr>\n",
       "    <tr>\n",
       "      <th>2023-03-29</th>\n",
       "      <td>95.69</td>\n",
       "    </tr>\n",
       "    <tr>\n",
       "      <th>2023-03-30</th>\n",
       "      <td>96.90</td>\n",
       "    </tr>\n",
       "  </tbody>\n",
       "</table>\n",
       "<p>61 rows × 1 columns</p>\n",
       "</div>"
      ],
      "text/plain": [
       "Ticker        DIS\n",
       "Date             \n",
       "2023-01-03  87.88\n",
       "2023-01-04  90.86\n",
       "2023-01-05  90.80\n",
       "2023-01-06  92.77\n",
       "2023-01-09  93.61\n",
       "...           ...\n",
       "2023-03-24  92.93\n",
       "2023-03-27  94.45\n",
       "2023-03-28  93.66\n",
       "2023-03-29  95.69\n",
       "2023-03-30  96.90\n",
       "\n",
       "[61 rows x 1 columns]"
      ]
     },
     "execution_count": 6,
     "metadata": {},
     "output_type": "execute_result"
    }
   ],
   "source": [
    "disney = disney['Close']\n",
    "disney"
   ]
  },
  {
   "cell_type": "markdown",
   "id": "2d953fe0",
   "metadata": {},
   "source": [
    "## Exploración de Datos"
   ]
  },
  {
   "cell_type": "code",
   "execution_count": 7,
   "id": "26b8a715",
   "metadata": {},
   "outputs": [
    {
     "data": {
      "image/png": "[encoded data removed]",
      "text/plain": [
       "<Figure size 1000x600 with 1 Axes>"
      ]
     },
     "metadata": {},
     "output_type": "display_data"
    }
   ],
   "source": [
    "# Graficar los datos de cierre de Disney\n",
    "plt.figure(figsize=(10, 6))\n",
    "plt.plot(disney, label='Precio de Cierre', color='blue')\n",
    "plt.title('Precio de Cierre de Disney (Ene 2023 - Mar 2023)')\n",
    "plt.xlabel('Fecha')\n",
    "plt.ylabel('Precio de Cierre (USD)')\n",
    "plt.legend()\n",
    "plt.grid()\n",
    "plt.show()"
   ]
  },
  {
   "cell_type": "markdown",
   "id": "7c146537",
   "metadata": {},
   "source": [
    "## Modelación"
   ]
  },
  {
   "cell_type": "markdown",
   "id": "84f73587",
   "metadata": {},
   "source": [
    "### División de Datos"
   ]
  },
  {
   "cell_type": "code",
   "execution_count": 8,
   "id": "e998ac31",
   "metadata": {},
   "outputs": [
    {
     "data": {
      "text/plain": [
       "48"
      ]
     },
     "execution_count": 8,
     "metadata": {},
     "output_type": "execute_result"
    }
   ],
   "source": [
    "# Dividir los datos en conjuntos de entrenamiento (70%) y prueba (30%).\n",
    "disney.index = pd.to_datetime(disney.index)\n",
    "len_train = int(len(disney)*0.8)\n",
    "len_train\n",
    "# Ajustar el índice para usar fechas."
   ]
  },
  {
   "cell_type": "code",
   "execution_count": 9,
   "id": "95fdaf51",
   "metadata": {},
   "outputs": [
    {
     "data": {
      "text/plain": [
       "12"
      ]
     },
     "execution_count": 9,
     "metadata": {},
     "output_type": "execute_result"
    }
   ],
   "source": [
    "len_test = int(len(disney)*0.2)\n",
    "len_test"
   ]
  },
  {
   "cell_type": "code",
   "execution_count": 10,
   "id": "9906f439",
   "metadata": {},
   "outputs": [],
   "source": [
    "# Definición de grupos de prueba y entrenamiento\n",
    "train = disney[0:len_train]\n"
   ]
  },
  {
   "cell_type": "code",
   "execution_count": 12,
   "id": "a4619f00",
   "metadata": {},
   "outputs": [],
   "source": [
    "test = disney[len_train:]"
   ]
  },
  {
   "cell_type": "markdown",
   "id": "34ea5baa",
   "metadata": {},
   "source": [
    "### Análisis de Autocorrelación"
   ]
  },
  {
   "cell_type": "code",
   "execution_count": null,
   "id": "9a856cfc",
   "metadata": {},
   "outputs": [],
   "source": [
    "# Generar gráficos de autocorrelación (ACF) y autocorrelación parcial (PACF).\n",
    "\n",
    "# Identificar el orden 𝑝 del modelo AR(p) más adecuado."
   ]
  },
  {
   "cell_type": "code",
   "execution_count": null,
   "id": "c2abc6fd",
   "metadata": {},
   "outputs": [],
   "source": [
    "# Calcular los valores de AIC y BIC para diferentes órdenes 𝑝.\n",
    "\n",
    "# Seleccionar el modelo con los valores más bajos."
   ]
  },
  {
   "cell_type": "markdown",
   "id": "d8f64222",
   "metadata": {},
   "source": [
    "### Ajuste del Modelo"
   ]
  },
  {
   "cell_type": "code",
   "execution_count": null,
   "id": "96ac5d5c",
   "metadata": {},
   "outputs": [],
   "source": [
    "# Entrenar el modelo AR(p) seleccionado en el conjunto de entrenamiento.\n",
    "\n",
    "# Evaluar el ajuste del modelo."
   ]
  },
  {
   "cell_type": "markdown",
   "id": "063c15e1",
   "metadata": {},
   "source": [
    "### Pronóstico"
   ]
  },
  {
   "cell_type": "code",
   "execution_count": null,
   "id": "2f56bca7",
   "metadata": {},
   "outputs": [],
   "source": [
    "# Generar predicciones puntuales para el mes de abril de 2023.\n",
    "\n",
    "# Calcular intervalos de confianza del 90% para las predicciones."
   ]
  },
  {
   "cell_type": "markdown",
   "id": "14431d6c",
   "metadata": {},
   "source": [
    "### Evaluación del Modelo"
   ]
  },
  {
   "cell_type": "code",
   "execution_count": 4,
   "id": "8e40ac95",
   "metadata": {},
   "outputs": [],
   "source": [
    "# Calcular métricas de error como RMSE y MAPE.\n",
    "\n",
    "# Analizar la precisión de las predicciones."
   ]
  },
  {
   "cell_type": "markdown",
   "id": "37fe31ec",
   "metadata": {},
   "source": [
    "## Visualización de Resultados"
   ]
  },
  {
   "cell_type": "code",
   "execution_count": null,
   "id": "64db018b",
   "metadata": {},
   "outputs": [],
   "source": [
    "# Graficar los datos históricos, predicciones y sus intervalos de confianza.\n",
    "\n",
    "# Usar colores para distinguir los diferentes conjuntos de datos."
   ]
  },
  {
   "cell_type": "markdown",
   "id": "2c905365",
   "metadata": {},
   "source": [
    "## Conclusiones"
   ]
  },
  {
   "cell_type": "code",
   "execution_count": null,
   "id": "52ae0e0a",
   "metadata": {},
   "outputs": [],
   "source": [
    "# Resumir los hallazgos del análisis.\n",
    "\n",
    "# Reflexionar sobre la precisión del modelo y posibles mejoras."
   ]
  },
  {
   "cell_type": "markdown",
   "id": "d4142043",
   "metadata": {},
   "source": []
  }
 ],
 "metadata": {
  "kernelspec": {
   "display_name": "Python 3",
   "language": "python",
   "name": "python3"
  },
  "language_info": {
   "codemirror_mode": {
    "name": "ipython",
    "version": 3
   },
   "file_extension": ".py",
   "mimetype": "text/x-python",
   "name": "python",
   "nbconvert_exporter": "python",
   "pygments_lexer": "ipython3",
   "version": "3.12.1"
  }
 },
 "nbformat": 4,
 "nbformat_minor": 5
}
